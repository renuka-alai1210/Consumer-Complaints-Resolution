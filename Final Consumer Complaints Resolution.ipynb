{
 "cells": [
  {
   "cell_type": "markdown",
   "metadata": {},
   "source": [
    "# Consumer Complaints Resolution"
   ]
  },
  {
   "cell_type": "markdown",
   "metadata": {},
   "source": [
    "Consumer complaint resolution is important to any business. In this case we have been given detailed consumer complaints along with whether consumer disputed with the conclusion. If we are able to predict this, consumer who is more likely to dispute a conclusion can be given more attention as to how the complaints are handled as well as how persuasively the final conclusions are conveyed to them.\n",
    "\n",
    "\n",
    "Your target here is to build prediction model for column \"Consumer disputed\".\n"
   ]
  },
  {
   "cell_type": "markdown",
   "metadata": {},
   "source": [
    "# Task1: Build the model for trained data."
   ]
  },
  {
   "cell_type": "code",
   "execution_count": 1,
   "metadata": {},
   "outputs": [],
   "source": [
    "import pandas as pd    #Data Manipulation  \n",
    "import numpy as np #numerical computation\n",
    "import matplotlib.pyplot as plt  #Used for Visualization\n",
    "#jupyter notebook specific command that let’s you see the plots in the notbook itself.\n",
    "import seaborn as sns\n",
    "import warnings\n",
    "warnings.filterwarnings('ignore') #To avoid displaying the warnings\n",
    "#warnings.warn(\"deprecated\", DeprecationWarning)"
   ]
  },
  {
   "cell_type": "markdown",
   "metadata": {},
   "source": [
    "#Read data from your local path.\n",
    "\n",
    "#csv file is provided here without path, because its present in the folder where this notebook is present.\n",
    "\n",
    "#If this file is present in some other path, then pd.read_csv('C:/users/hotel_bookings.csv')\n",
    "\n",
    "#Path should be of your local file"
   ]
  },
  {
   "cell_type": "markdown",
   "metadata": {},
   "source": [
    "# Clean Train DataSet"
   ]
  },
  {
   "cell_type": "code",
   "execution_count": 2,
   "metadata": {},
   "outputs": [],
   "source": [
    "df_train = pd.read_csv(\"Consumer_Complaints_train.csv\")  #read train dataset"
   ]
  },
  {
   "cell_type": "code",
   "execution_count": 3,
   "metadata": {},
   "outputs": [
    {
     "data": {
      "text/html": [
       "<div>\n",
       "<style scoped>\n",
       "    .dataframe tbody tr th:only-of-type {\n",
       "        vertical-align: middle;\n",
       "    }\n",
       "\n",
       "    .dataframe tbody tr th {\n",
       "        vertical-align: top;\n",
       "    }\n",
       "\n",
       "    .dataframe thead th {\n",
       "        text-align: right;\n",
       "    }\n",
       "</style>\n",
       "<table border=\"1\" class=\"dataframe\">\n",
       "  <thead>\n",
       "    <tr style=\"text-align: right;\">\n",
       "      <th></th>\n",
       "      <th>Date received</th>\n",
       "      <th>Product</th>\n",
       "      <th>Sub-product</th>\n",
       "      <th>Issue</th>\n",
       "      <th>Sub-issue</th>\n",
       "      <th>Consumer complaint narrative</th>\n",
       "      <th>Company public response</th>\n",
       "      <th>Company</th>\n",
       "      <th>State</th>\n",
       "      <th>ZIP code</th>\n",
       "      <th>Tags</th>\n",
       "      <th>Consumer consent provided?</th>\n",
       "      <th>Submitted via</th>\n",
       "      <th>Date sent to company</th>\n",
       "      <th>Company response to consumer</th>\n",
       "      <th>Timely response?</th>\n",
       "      <th>Consumer disputed?</th>\n",
       "      <th>Complaint ID</th>\n",
       "    </tr>\n",
       "  </thead>\n",
       "  <tbody>\n",
       "    <tr>\n",
       "      <th>0</th>\n",
       "      <td>2014-05-15</td>\n",
       "      <td>Credit card</td>\n",
       "      <td>NaN</td>\n",
       "      <td>Billing statement</td>\n",
       "      <td>NaN</td>\n",
       "      <td>NaN</td>\n",
       "      <td>NaN</td>\n",
       "      <td>Wells Fargo &amp; Company</td>\n",
       "      <td>MI</td>\n",
       "      <td>48342</td>\n",
       "      <td>Older American</td>\n",
       "      <td>NaN</td>\n",
       "      <td>Web</td>\n",
       "      <td>2014-05-16</td>\n",
       "      <td>Closed with explanation</td>\n",
       "      <td>Yes</td>\n",
       "      <td>No</td>\n",
       "      <td>856103</td>\n",
       "    </tr>\n",
       "    <tr>\n",
       "      <th>1</th>\n",
       "      <td>2014-09-18</td>\n",
       "      <td>Bank account or service</td>\n",
       "      <td>(CD) Certificate of deposit</td>\n",
       "      <td>Making/receiving payments, sending money</td>\n",
       "      <td>NaN</td>\n",
       "      <td>NaN</td>\n",
       "      <td>NaN</td>\n",
       "      <td>Santander Bank US</td>\n",
       "      <td>PA</td>\n",
       "      <td>18042</td>\n",
       "      <td>NaN</td>\n",
       "      <td>NaN</td>\n",
       "      <td>Referral</td>\n",
       "      <td>2014-09-24</td>\n",
       "      <td>Closed</td>\n",
       "      <td>Yes</td>\n",
       "      <td>No</td>\n",
       "      <td>1034666</td>\n",
       "    </tr>\n",
       "    <tr>\n",
       "      <th>2</th>\n",
       "      <td>2014-03-13</td>\n",
       "      <td>Credit reporting</td>\n",
       "      <td>NaN</td>\n",
       "      <td>Incorrect information on credit report</td>\n",
       "      <td>Account status</td>\n",
       "      <td>NaN</td>\n",
       "      <td>NaN</td>\n",
       "      <td>Equifax</td>\n",
       "      <td>CA</td>\n",
       "      <td>92427</td>\n",
       "      <td>NaN</td>\n",
       "      <td>NaN</td>\n",
       "      <td>Referral</td>\n",
       "      <td>2014-04-03</td>\n",
       "      <td>Closed with non-monetary relief</td>\n",
       "      <td>Yes</td>\n",
       "      <td>No</td>\n",
       "      <td>756363</td>\n",
       "    </tr>\n",
       "    <tr>\n",
       "      <th>3</th>\n",
       "      <td>2015-07-17</td>\n",
       "      <td>Credit card</td>\n",
       "      <td>NaN</td>\n",
       "      <td>Billing statement</td>\n",
       "      <td>NaN</td>\n",
       "      <td>My credit card statement from US Bank, XXXX. X...</td>\n",
       "      <td>Company chooses not to provide a public response</td>\n",
       "      <td>U.S. Bancorp</td>\n",
       "      <td>GA</td>\n",
       "      <td>305XX</td>\n",
       "      <td>Older American</td>\n",
       "      <td>Consent provided</td>\n",
       "      <td>Web</td>\n",
       "      <td>2015-07-17</td>\n",
       "      <td>Closed with monetary relief</td>\n",
       "      <td>Yes</td>\n",
       "      <td>No</td>\n",
       "      <td>1474177</td>\n",
       "    </tr>\n",
       "    <tr>\n",
       "      <th>4</th>\n",
       "      <td>2014-11-20</td>\n",
       "      <td>Credit card</td>\n",
       "      <td>NaN</td>\n",
       "      <td>Transaction issue</td>\n",
       "      <td>NaN</td>\n",
       "      <td>NaN</td>\n",
       "      <td>NaN</td>\n",
       "      <td>Bank of America</td>\n",
       "      <td>MA</td>\n",
       "      <td>02127</td>\n",
       "      <td>NaN</td>\n",
       "      <td>NaN</td>\n",
       "      <td>Web</td>\n",
       "      <td>2014-11-28</td>\n",
       "      <td>Closed with explanation</td>\n",
       "      <td>Yes</td>\n",
       "      <td>No</td>\n",
       "      <td>1132572</td>\n",
       "    </tr>\n",
       "  </tbody>\n",
       "</table>\n",
       "</div>"
      ],
      "text/plain": [
       "  Date received                  Product                  Sub-product  \\\n",
       "0    2014-05-15              Credit card                          NaN   \n",
       "1    2014-09-18  Bank account or service  (CD) Certificate of deposit   \n",
       "2    2014-03-13         Credit reporting                          NaN   \n",
       "3    2015-07-17              Credit card                          NaN   \n",
       "4    2014-11-20              Credit card                          NaN   \n",
       "\n",
       "                                      Issue       Sub-issue  \\\n",
       "0                         Billing statement             NaN   \n",
       "1  Making/receiving payments, sending money             NaN   \n",
       "2    Incorrect information on credit report  Account status   \n",
       "3                         Billing statement             NaN   \n",
       "4                         Transaction issue             NaN   \n",
       "\n",
       "                        Consumer complaint narrative  \\\n",
       "0                                                NaN   \n",
       "1                                                NaN   \n",
       "2                                                NaN   \n",
       "3  My credit card statement from US Bank, XXXX. X...   \n",
       "4                                                NaN   \n",
       "\n",
       "                            Company public response                Company  \\\n",
       "0                                               NaN  Wells Fargo & Company   \n",
       "1                                               NaN      Santander Bank US   \n",
       "2                                               NaN                Equifax   \n",
       "3  Company chooses not to provide a public response           U.S. Bancorp   \n",
       "4                                               NaN        Bank of America   \n",
       "\n",
       "  State ZIP code            Tags Consumer consent provided? Submitted via  \\\n",
       "0    MI    48342  Older American                        NaN           Web   \n",
       "1    PA    18042             NaN                        NaN      Referral   \n",
       "2    CA    92427             NaN                        NaN      Referral   \n",
       "3    GA    305XX  Older American           Consent provided           Web   \n",
       "4    MA    02127             NaN                        NaN           Web   \n",
       "\n",
       "  Date sent to company     Company response to consumer Timely response?  \\\n",
       "0           2014-05-16          Closed with explanation              Yes   \n",
       "1           2014-09-24                           Closed              Yes   \n",
       "2           2014-04-03  Closed with non-monetary relief              Yes   \n",
       "3           2015-07-17      Closed with monetary relief              Yes   \n",
       "4           2014-11-28          Closed with explanation              Yes   \n",
       "\n",
       "  Consumer disputed?  Complaint ID  \n",
       "0                 No        856103  \n",
       "1                 No       1034666  \n",
       "2                 No        756363  \n",
       "3                 No       1474177  \n",
       "4                 No       1132572  "
      ]
     },
     "execution_count": 3,
     "metadata": {},
     "output_type": "execute_result"
    }
   ],
   "source": [
    "#Displaying top 5 values in a dataframe\n",
    "#for different count like top 10 or 20, etc, --> train.head(10) or train.head(20)\n",
    "#for last values in dataframe --> train.tail()\n",
    "df_train.head()"
   ]
  },
  {
   "cell_type": "code",
   "execution_count": 4,
   "metadata": {},
   "outputs": [
    {
     "data": {
      "text/plain": [
       "(478421, 18)"
      ]
     },
     "execution_count": 4,
     "metadata": {},
     "output_type": "execute_result"
    }
   ],
   "source": [
    "df_train.shape #The shape of an array is the number of elements in each dimension"
   ]
  },
  {
   "cell_type": "code",
   "execution_count": 5,
   "metadata": {},
   "outputs": [
    {
     "name": "stdout",
     "output_type": "stream",
     "text": [
      "<class 'pandas.core.frame.DataFrame'>\n",
      "RangeIndex: 478421 entries, 0 to 478420\n",
      "Data columns (total 18 columns):\n",
      "Date received                   478421 non-null object\n",
      "Product                         478421 non-null object\n",
      "Sub-product                     339948 non-null object\n",
      "Issue                           478421 non-null object\n",
      "Sub-issue                       185796 non-null object\n",
      "Consumer complaint narrative    75094 non-null object\n",
      "Company public response         90392 non-null object\n",
      "Company                         478421 non-null object\n",
      "State                           474582 non-null object\n",
      "ZIP code                        474573 non-null object\n",
      "Tags                            67206 non-null object\n",
      "Consumer consent provided?      135487 non-null object\n",
      "Submitted via                   478421 non-null object\n",
      "Date sent to company            478421 non-null object\n",
      "Company response to consumer    478421 non-null object\n",
      "Timely response?                478421 non-null object\n",
      "Consumer disputed?              478421 non-null object\n",
      "Complaint ID                    478421 non-null int64\n",
      "dtypes: int64(1), object(17)\n",
      "memory usage: 65.7+ MB\n"
     ]
    }
   ],
   "source": [
    "df_train.info() #return information for a function"
   ]
  },
  {
   "cell_type": "code",
   "execution_count": 6,
   "metadata": {},
   "outputs": [
    {
     "data": {
      "text/plain": [
       "Index(['Date received', 'Product', 'Sub-product', 'Issue', 'Sub-issue',\n",
       "       'Consumer complaint narrative', 'Company public response', 'Company',\n",
       "       'State', 'ZIP code', 'Tags', 'Consumer consent provided?',\n",
       "       'Submitted via', 'Date sent to company', 'Company response to consumer',\n",
       "       'Timely response?', 'Consumer disputed?', 'Complaint ID'],\n",
       "      dtype='object')"
      ]
     },
     "execution_count": 6,
     "metadata": {},
     "output_type": "execute_result"
    }
   ],
   "source": [
    "df_train.columns  #return all columns from train dataset"
   ]
  },
  {
   "cell_type": "code",
   "execution_count": 7,
   "metadata": {},
   "outputs": [
    {
     "data": {
      "text/plain": [
       "Date received                        0\n",
       "Product                              0\n",
       "Sub-product                     138473\n",
       "Issue                                0\n",
       "Sub-issue                       292625\n",
       "Consumer complaint narrative    403327\n",
       "Company public response         388029\n",
       "Company                              0\n",
       "State                             3839\n",
       "ZIP code                          3848\n",
       "Tags                            411215\n",
       "Consumer consent provided?      342934\n",
       "Submitted via                        0\n",
       "Date sent to company                 0\n",
       "Company response to consumer         0\n",
       "Timely response?                     0\n",
       "Consumer disputed?                   0\n",
       "Complaint ID                         0\n",
       "dtype: int64"
      ]
     },
     "execution_count": 7,
     "metadata": {},
     "output_type": "execute_result"
    }
   ],
   "source": [
    "#count of null values for specific columns in dataframe\n",
    "df_train.isna().sum()"
   ]
  },
  {
   "cell_type": "code",
   "execution_count": 8,
   "metadata": {},
   "outputs": [
    {
     "data": {
      "text/plain": [
       "Date received                   object\n",
       "Product                         object\n",
       "Sub-product                     object\n",
       "Issue                           object\n",
       "Sub-issue                       object\n",
       "Consumer complaint narrative    object\n",
       "Company public response         object\n",
       "Company                         object\n",
       "State                           object\n",
       "ZIP code                        object\n",
       "Tags                            object\n",
       "Consumer consent provided?      object\n",
       "Submitted via                   object\n",
       "Date sent to company            object\n",
       "Company response to consumer    object\n",
       "Timely response?                object\n",
       "Consumer disputed?              object\n",
       "Complaint ID                     int64\n",
       "dtype: object"
      ]
     },
     "execution_count": 8,
     "metadata": {},
     "output_type": "execute_result"
    }
   ],
   "source": [
    "df_train.dtypes"
   ]
  },
  {
   "cell_type": "code",
   "execution_count": 9,
   "metadata": {},
   "outputs": [
    {
     "name": "stdout",
     "output_type": "stream",
     "text": [
      "Requirement already satisfied: missingno in c:\\users\\admin\\anaconda3\\lib\\site-packages (0.4.2)\n",
      "Requirement already satisfied: numpy in c:\\users\\admin\\anaconda3\\lib\\site-packages (from missingno) (1.16.4)\n",
      "Requirement already satisfied: seaborn in c:\\users\\admin\\anaconda3\\lib\\site-packages (from missingno) (0.9.0)\n",
      "Requirement already satisfied: scipy in c:\\users\\admin\\anaconda3\\lib\\site-packages (from missingno) (1.2.1)\n",
      "Requirement already satisfied: matplotlib in c:\\users\\admin\\anaconda3\\lib\\site-packages (from missingno) (3.1.0)\n",
      "Requirement already satisfied: pandas>=0.15.2 in c:\\users\\admin\\anaconda3\\lib\\site-packages (from seaborn->missingno) (0.24.2)\n",
      "Requirement already satisfied: cycler>=0.10 in c:\\users\\admin\\anaconda3\\lib\\site-packages (from matplotlib->missingno) (0.10.0)\n",
      "Requirement already satisfied: kiwisolver>=1.0.1 in c:\\users\\admin\\anaconda3\\lib\\site-packages (from matplotlib->missingno) (1.1.0)\n",
      "Requirement already satisfied: pyparsing!=2.0.4,!=2.1.2,!=2.1.6,>=2.0.1 in c:\\users\\admin\\anaconda3\\lib\\site-packages (from matplotlib->missingno) (2.4.0)\n",
      "Requirement already satisfied: python-dateutil>=2.1 in c:\\users\\admin\\anaconda3\\lib\\site-packages (from matplotlib->missingno) (2.8.0)\n",
      "Requirement already satisfied: pytz>=2011k in c:\\users\\admin\\anaconda3\\lib\\site-packages (from pandas>=0.15.2->seaborn->missingno) (2019.1)\n",
      "Requirement already satisfied: six in c:\\users\\admin\\anaconda3\\lib\\site-packages (from cycler>=0.10->matplotlib->missingno) (1.12.0)\n",
      "Requirement already satisfied: setuptools in c:\\users\\admin\\anaconda3\\lib\\site-packages (from kiwisolver>=1.0.1->matplotlib->missingno) (41.0.1)\n",
      "Note: you may need to restart the kernel to use updated packages.\n"
     ]
    }
   ],
   "source": [
    "pip install missingno"
   ]
  },
  {
   "cell_type": "code",
   "execution_count": 10,
   "metadata": {},
   "outputs": [
    {
     "data": {
      "text/plain": [
       "<matplotlib.axes._subplots.AxesSubplot at 0x1c53ae85518>"
      ]
     },
     "execution_count": 10,
     "metadata": {},
     "output_type": "execute_result"
    },
    {
     "data": {
      "image/png": "[encoded data removed]",
      "text/plain": [
       "<Figure size 1800x720 with 2 Axes>"
      ]
     },
     "metadata": {
      "needs_background": "light"
     },
     "output_type": "display_data"
    }
   ],
   "source": [
    "import missingno as msno\n",
    "msno.matrix(df_train)   #Missing Data - Visualization"
   ]
  },
  {
   "cell_type": "code",
   "execution_count": 11,
   "metadata": {},
   "outputs": [
    {
     "data": {
      "text/plain": [
       "<matplotlib.axes._subplots.AxesSubplot at 0x1c53c846748>"
      ]
     },
     "execution_count": 11,
     "metadata": {},
     "output_type": "execute_result"
    },
    {
     "data": {
      "image/png": "[encoded data removed]",
      "text/plain": [
       "<Figure size 1440x864 with 2 Axes>"
      ]
     },
     "metadata": {
      "needs_background": "light"
     },
     "output_type": "display_data"
    }
   ],
   "source": [
    "msno.heatmap(df_train)   #Observation:From the visual, we can see that there are many columns are empty"
   ]
  },
  {
   "cell_type": "code",
   "execution_count": 12,
   "metadata": {},
   "outputs": [
    {
     "data": {
      "text/plain": [
       "<matplotlib.axes._subplots.AxesSubplot at 0x1c53a737be0>"
      ]
     },
     "execution_count": 12,
     "metadata": {},
     "output_type": "execute_result"
    },
    {
     "data": {
      "image/png": "[encoded data removed]",
      "text/plain": [
       "<Figure size 1728x720 with 3 Axes>"
      ]
     },
     "metadata": {
      "needs_background": "light"
     },
     "output_type": "display_data"
    }
   ],
   "source": [
    "msno.bar(df_train)"
   ]
  },
  {
   "cell_type": "code",
   "execution_count": 13,
   "metadata": {},
   "outputs": [
    {
     "data": {
      "text/plain": [
       "478421"
      ]
     },
     "execution_count": 13,
     "metadata": {},
     "output_type": "execute_result"
    }
   ],
   "source": [
    "df_train.shape[0]  #return the dimension for train dataset"
   ]
  },
  {
   "cell_type": "code",
   "execution_count": 14,
   "metadata": {},
   "outputs": [],
   "source": [
    "import matplotlib.pyplot as plt\n",
    "def show_donut_plot(col):\n",
    "    \n",
    "    rating_data = df_train.groupby(col)[['Product']].count().head(10)\n",
    "    plt.figure(figsize = (12, 8))\n",
    "    plt.pie(rating_data[['Product']], autopct = '%1.0f%%', startangle = 140, pctdistance = 1.1, shadow = True)\n",
    "\n",
    "    # create a center circle for more aesthetics to make it better\n",
    "    gap = plt.Circle((0, 0), 0.5, fc = 'white')\n",
    "    fig = plt.gcf()\n",
    "    fig.gca().add_artist(gap)\n",
    "    \n",
    "    plt.axis('equal')\n",
    "    \n",
    "    cols = []\n",
    "    for index, row in rating_data.iterrows():\n",
    "        cols.append(index)\n",
    "    plt.legend(cols)\n",
    "    \n",
    "    plt.title('Donut Plot by ' +str(col), loc='center')\n",
    "    \n",
    "    plt.show()"
   ]
  },
  {
   "cell_type": "code",
   "execution_count": 15,
   "metadata": {},
   "outputs": [
    {
     "data": {
      "image/png": "[encoded data removed]",
      "text/plain": [
       "<Figure size 864x576 with 1 Axes>"
      ]
     },
     "metadata": {},
     "output_type": "display_data"
    }
   ],
   "source": [
    "show_donut_plot('Consumer disputed?')  #Let's use donut plots to understand the data better with specific groups like Product"
   ]
  },
  {
   "cell_type": "code",
   "execution_count": 16,
   "metadata": {},
   "outputs": [
    {
     "data": {
      "text/plain": [
       "74019"
      ]
     },
     "execution_count": 16,
     "metadata": {},
     "output_type": "execute_result"
    }
   ],
   "source": [
    "len(df_train['Consumer complaint narrative'].value_counts())   #Return a Series containing counts of unique values."
   ]
  },
  {
   "cell_type": "code",
   "execution_count": 17,
   "metadata": {},
   "outputs": [
    {
     "data": {
      "text/plain": [
       "74020"
      ]
     },
     "execution_count": 17,
     "metadata": {},
     "output_type": "execute_result"
    }
   ],
   "source": [
    "len(df_train['Consumer complaint narrative'].unique())  #Return a Series containing counts of unique values."
   ]
  },
  {
   "cell_type": "code",
   "execution_count": 18,
   "metadata": {},
   "outputs": [
    {
     "data": {
      "text/plain": [
       "12"
      ]
     },
     "execution_count": 18,
     "metadata": {},
     "output_type": "execute_result"
    }
   ],
   "source": [
    "len(df_train['Product'].unique()) #print unique value from produc col"
   ]
  },
  {
   "cell_type": "code",
   "execution_count": 19,
   "metadata": {},
   "outputs": [],
   "source": [
    "#convert data type of datetime, object to datetime\n",
    "# Use Parameter infer_datetime_format and set it as True\n",
    "#Passing infer_datetime_format=True can often-times speedup a parsing if its not an ISO8601 format exactly,but in a regular format.\n",
    "for col in ['Date sent to company','Date received']:\n",
    "    df_train[col] = pd.to_datetime(df_train[col],infer_datetime_format=True)"
   ]
  },
  {
   "cell_type": "code",
   "execution_count": 20,
   "metadata": {},
   "outputs": [
    {
     "data": {
      "text/plain": [
       "Date received                        0\n",
       "Product                              0\n",
       "Sub-product                     138473\n",
       "Issue                                0\n",
       "Sub-issue                       292625\n",
       "Consumer complaint narrative    403327\n",
       "Company public response         388029\n",
       "Company                              0\n",
       "State                             3839\n",
       "ZIP code                          3848\n",
       "Tags                            411215\n",
       "Consumer consent provided?      342934\n",
       "Submitted via                        0\n",
       "Date sent to company                 0\n",
       "Company response to consumer         0\n",
       "Timely response?                     0\n",
       "Consumer disputed?                   0\n",
       "Complaint ID                         0\n",
       "dtype: int64"
      ]
     },
     "execution_count": 20,
     "metadata": {},
     "output_type": "execute_result"
    }
   ],
   "source": [
    "df_train.isnull().sum()"
   ]
  },
  {
   "cell_type": "code",
   "execution_count": 21,
   "metadata": {},
   "outputs": [],
   "source": [
    "#add a new col concat_both for diff. between the Date sent to company & Date received col.\n",
    "df_train['day_difffrom_Date'] = pd.to_numeric(df_train['Date sent to company'] - df_train['Date received'])"
   ]
  },
  {
   "cell_type": "code",
   "execution_count": 22,
   "metadata": {},
   "outputs": [
    {
     "data": {
      "text/html": [
       "<div>\n",
       "<style scoped>\n",
       "    .dataframe tbody tr th:only-of-type {\n",
       "        vertical-align: middle;\n",
       "    }\n",
       "\n",
       "    .dataframe tbody tr th {\n",
       "        vertical-align: top;\n",
       "    }\n",
       "\n",
       "    .dataframe thead th {\n",
       "        text-align: right;\n",
       "    }\n",
       "</style>\n",
       "<table border=\"1\" class=\"dataframe\">\n",
       "  <thead>\n",
       "    <tr style=\"text-align: right;\">\n",
       "      <th></th>\n",
       "      <th>Date received</th>\n",
       "      <th>Product</th>\n",
       "      <th>Sub-product</th>\n",
       "      <th>Issue</th>\n",
       "      <th>Sub-issue</th>\n",
       "      <th>Consumer complaint narrative</th>\n",
       "      <th>Company public response</th>\n",
       "      <th>Company</th>\n",
       "      <th>State</th>\n",
       "      <th>ZIP code</th>\n",
       "      <th>Tags</th>\n",
       "      <th>Consumer consent provided?</th>\n",
       "      <th>Submitted via</th>\n",
       "      <th>Date sent to company</th>\n",
       "      <th>Company response to consumer</th>\n",
       "      <th>Timely response?</th>\n",
       "      <th>Consumer disputed?</th>\n",
       "      <th>Complaint ID</th>\n",
       "      <th>day_difffrom_Date</th>\n",
       "    </tr>\n",
       "  </thead>\n",
       "  <tbody>\n",
       "    <tr>\n",
       "      <th>0</th>\n",
       "      <td>2014-05-15</td>\n",
       "      <td>Credit card</td>\n",
       "      <td>NaN</td>\n",
       "      <td>Billing statement</td>\n",
       "      <td>NaN</td>\n",
       "      <td>NaN</td>\n",
       "      <td>NaN</td>\n",
       "      <td>Wells Fargo &amp; Company</td>\n",
       "      <td>MI</td>\n",
       "      <td>48342</td>\n",
       "      <td>Older American</td>\n",
       "      <td>NaN</td>\n",
       "      <td>Web</td>\n",
       "      <td>2014-05-16</td>\n",
       "      <td>Closed with explanation</td>\n",
       "      <td>Yes</td>\n",
       "      <td>No</td>\n",
       "      <td>856103</td>\n",
       "      <td>86400000000000</td>\n",
       "    </tr>\n",
       "    <tr>\n",
       "      <th>1</th>\n",
       "      <td>2014-09-18</td>\n",
       "      <td>Bank account or service</td>\n",
       "      <td>(CD) Certificate of deposit</td>\n",
       "      <td>Making/receiving payments, sending money</td>\n",
       "      <td>NaN</td>\n",
       "      <td>NaN</td>\n",
       "      <td>NaN</td>\n",
       "      <td>Santander Bank US</td>\n",
       "      <td>PA</td>\n",
       "      <td>18042</td>\n",
       "      <td>NaN</td>\n",
       "      <td>NaN</td>\n",
       "      <td>Referral</td>\n",
       "      <td>2014-09-24</td>\n",
       "      <td>Closed</td>\n",
       "      <td>Yes</td>\n",
       "      <td>No</td>\n",
       "      <td>1034666</td>\n",
       "      <td>518400000000000</td>\n",
       "    </tr>\n",
       "    <tr>\n",
       "      <th>2</th>\n",
       "      <td>2014-03-13</td>\n",
       "      <td>Credit reporting</td>\n",
       "      <td>NaN</td>\n",
       "      <td>Incorrect information on credit report</td>\n",
       "      <td>Account status</td>\n",
       "      <td>NaN</td>\n",
       "      <td>NaN</td>\n",
       "      <td>Equifax</td>\n",
       "      <td>CA</td>\n",
       "      <td>92427</td>\n",
       "      <td>NaN</td>\n",
       "      <td>NaN</td>\n",
       "      <td>Referral</td>\n",
       "      <td>2014-04-03</td>\n",
       "      <td>Closed with non-monetary relief</td>\n",
       "      <td>Yes</td>\n",
       "      <td>No</td>\n",
       "      <td>756363</td>\n",
       "      <td>1814400000000000</td>\n",
       "    </tr>\n",
       "    <tr>\n",
       "      <th>3</th>\n",
       "      <td>2015-07-17</td>\n",
       "      <td>Credit card</td>\n",
       "      <td>NaN</td>\n",
       "      <td>Billing statement</td>\n",
       "      <td>NaN</td>\n",
       "      <td>My credit card statement from US Bank, XXXX. X...</td>\n",
       "      <td>Company chooses not to provide a public response</td>\n",
       "      <td>U.S. Bancorp</td>\n",
       "      <td>GA</td>\n",
       "      <td>305XX</td>\n",
       "      <td>Older American</td>\n",
       "      <td>Consent provided</td>\n",
       "      <td>Web</td>\n",
       "      <td>2015-07-17</td>\n",
       "      <td>Closed with monetary relief</td>\n",
       "      <td>Yes</td>\n",
       "      <td>No</td>\n",
       "      <td>1474177</td>\n",
       "      <td>0</td>\n",
       "    </tr>\n",
       "    <tr>\n",
       "      <th>4</th>\n",
       "      <td>2014-11-20</td>\n",
       "      <td>Credit card</td>\n",
       "      <td>NaN</td>\n",
       "      <td>Transaction issue</td>\n",
       "      <td>NaN</td>\n",
       "      <td>NaN</td>\n",
       "      <td>NaN</td>\n",
       "      <td>Bank of America</td>\n",
       "      <td>MA</td>\n",
       "      <td>02127</td>\n",
       "      <td>NaN</td>\n",
       "      <td>NaN</td>\n",
       "      <td>Web</td>\n",
       "      <td>2014-11-28</td>\n",
       "      <td>Closed with explanation</td>\n",
       "      <td>Yes</td>\n",
       "      <td>No</td>\n",
       "      <td>1132572</td>\n",
       "      <td>691200000000000</td>\n",
       "    </tr>\n",
       "  </tbody>\n",
       "</table>\n",
       "</div>"
      ],
      "text/plain": [
       "  Date received                  Product                  Sub-product  \\\n",
       "0    2014-05-15              Credit card                          NaN   \n",
       "1    2014-09-18  Bank account or service  (CD) Certificate of deposit   \n",
       "2    2014-03-13         Credit reporting                          NaN   \n",
       "3    2015-07-17              Credit card                          NaN   \n",
       "4    2014-11-20              Credit card                          NaN   \n",
       "\n",
       "                                      Issue       Sub-issue  \\\n",
       "0                         Billing statement             NaN   \n",
       "1  Making/receiving payments, sending money             NaN   \n",
       "2    Incorrect information on credit report  Account status   \n",
       "3                         Billing statement             NaN   \n",
       "4                         Transaction issue             NaN   \n",
       "\n",
       "                        Consumer complaint narrative  \\\n",
       "0                                                NaN   \n",
       "1                                                NaN   \n",
       "2                                                NaN   \n",
       "3  My credit card statement from US Bank, XXXX. X...   \n",
       "4                                                NaN   \n",
       "\n",
       "                            Company public response                Company  \\\n",
       "0                                               NaN  Wells Fargo & Company   \n",
       "1                                               NaN      Santander Bank US   \n",
       "2                                               NaN                Equifax   \n",
       "3  Company chooses not to provide a public response           U.S. Bancorp   \n",
       "4                                               NaN        Bank of America   \n",
       "\n",
       "  State ZIP code            Tags Consumer consent provided? Submitted via  \\\n",
       "0    MI    48342  Older American                        NaN           Web   \n",
       "1    PA    18042             NaN                        NaN      Referral   \n",
       "2    CA    92427             NaN                        NaN      Referral   \n",
       "3    GA    305XX  Older American           Consent provided           Web   \n",
       "4    MA    02127             NaN                        NaN           Web   \n",
       "\n",
       "  Date sent to company     Company response to consumer Timely response?  \\\n",
       "0           2014-05-16          Closed with explanation              Yes   \n",
       "1           2014-09-24                           Closed              Yes   \n",
       "2           2014-04-03  Closed with non-monetary relief              Yes   \n",
       "3           2015-07-17      Closed with monetary relief              Yes   \n",
       "4           2014-11-28          Closed with explanation              Yes   \n",
       "\n",
       "  Consumer disputed?  Complaint ID  day_difffrom_Date  \n",
       "0                 No        856103     86400000000000  \n",
       "1                 No       1034666    518400000000000  \n",
       "2                 No        756363   1814400000000000  \n",
       "3                 No       1474177                  0  \n",
       "4                 No       1132572    691200000000000  "
      ]
     },
     "execution_count": 22,
     "metadata": {},
     "output_type": "execute_result"
    }
   ],
   "source": [
    "df_train.head()"
   ]
  },
  {
   "cell_type": "code",
   "execution_count": 23,
   "metadata": {},
   "outputs": [],
   "source": [
    "#drop the Date sent to company & Date received col\n",
    "for col in ['Date sent to company','Date received']:\n",
    "    df_train.drop([col],axis=1,inplace=True)"
   ]
  },
  {
   "cell_type": "code",
   "execution_count": 24,
   "metadata": {},
   "outputs": [
    {
     "data": {
      "text/html": [
       "<div>\n",
       "<style scoped>\n",
       "    .dataframe tbody tr th:only-of-type {\n",
       "        vertical-align: middle;\n",
       "    }\n",
       "\n",
       "    .dataframe tbody tr th {\n",
       "        vertical-align: top;\n",
       "    }\n",
       "\n",
       "    .dataframe thead th {\n",
       "        text-align: right;\n",
       "    }\n",
       "</style>\n",
       "<table border=\"1\" class=\"dataframe\">\n",
       "  <thead>\n",
       "    <tr style=\"text-align: right;\">\n",
       "      <th></th>\n",
       "      <th>Product</th>\n",
       "      <th>Sub-product</th>\n",
       "      <th>Issue</th>\n",
       "      <th>Sub-issue</th>\n",
       "      <th>Consumer complaint narrative</th>\n",
       "      <th>Company public response</th>\n",
       "      <th>Company</th>\n",
       "      <th>State</th>\n",
       "      <th>ZIP code</th>\n",
       "      <th>Tags</th>\n",
       "      <th>Consumer consent provided?</th>\n",
       "      <th>Submitted via</th>\n",
       "      <th>Company response to consumer</th>\n",
       "      <th>Timely response?</th>\n",
       "      <th>Consumer disputed?</th>\n",
       "      <th>Complaint ID</th>\n",
       "      <th>day_difffrom_Date</th>\n",
       "    </tr>\n",
       "  </thead>\n",
       "  <tbody>\n",
       "    <tr>\n",
       "      <th>0</th>\n",
       "      <td>Credit card</td>\n",
       "      <td>NaN</td>\n",
       "      <td>Billing statement</td>\n",
       "      <td>NaN</td>\n",
       "      <td>NaN</td>\n",
       "      <td>NaN</td>\n",
       "      <td>Wells Fargo &amp; Company</td>\n",
       "      <td>MI</td>\n",
       "      <td>48342</td>\n",
       "      <td>Older American</td>\n",
       "      <td>NaN</td>\n",
       "      <td>Web</td>\n",
       "      <td>Closed with explanation</td>\n",
       "      <td>Yes</td>\n",
       "      <td>No</td>\n",
       "      <td>856103</td>\n",
       "      <td>86400000000000</td>\n",
       "    </tr>\n",
       "    <tr>\n",
       "      <th>1</th>\n",
       "      <td>Bank account or service</td>\n",
       "      <td>(CD) Certificate of deposit</td>\n",
       "      <td>Making/receiving payments, sending money</td>\n",
       "      <td>NaN</td>\n",
       "      <td>NaN</td>\n",
       "      <td>NaN</td>\n",
       "      <td>Santander Bank US</td>\n",
       "      <td>PA</td>\n",
       "      <td>18042</td>\n",
       "      <td>NaN</td>\n",
       "      <td>NaN</td>\n",
       "      <td>Referral</td>\n",
       "      <td>Closed</td>\n",
       "      <td>Yes</td>\n",
       "      <td>No</td>\n",
       "      <td>1034666</td>\n",
       "      <td>518400000000000</td>\n",
       "    </tr>\n",
       "    <tr>\n",
       "      <th>2</th>\n",
       "      <td>Credit reporting</td>\n",
       "      <td>NaN</td>\n",
       "      <td>Incorrect information on credit report</td>\n",
       "      <td>Account status</td>\n",
       "      <td>NaN</td>\n",
       "      <td>NaN</td>\n",
       "      <td>Equifax</td>\n",
       "      <td>CA</td>\n",
       "      <td>92427</td>\n",
       "      <td>NaN</td>\n",
       "      <td>NaN</td>\n",
       "      <td>Referral</td>\n",
       "      <td>Closed with non-monetary relief</td>\n",
       "      <td>Yes</td>\n",
       "      <td>No</td>\n",
       "      <td>756363</td>\n",
       "      <td>1814400000000000</td>\n",
       "    </tr>\n",
       "    <tr>\n",
       "      <th>3</th>\n",
       "      <td>Credit card</td>\n",
       "      <td>NaN</td>\n",
       "      <td>Billing statement</td>\n",
       "      <td>NaN</td>\n",
       "      <td>My credit card statement from US Bank, XXXX. X...</td>\n",
       "      <td>Company chooses not to provide a public response</td>\n",
       "      <td>U.S. Bancorp</td>\n",
       "      <td>GA</td>\n",
       "      <td>305XX</td>\n",
       "      <td>Older American</td>\n",
       "      <td>Consent provided</td>\n",
       "      <td>Web</td>\n",
       "      <td>Closed with monetary relief</td>\n",
       "      <td>Yes</td>\n",
       "      <td>No</td>\n",
       "      <td>1474177</td>\n",
       "      <td>0</td>\n",
       "    </tr>\n",
       "    <tr>\n",
       "      <th>4</th>\n",
       "      <td>Credit card</td>\n",
       "      <td>NaN</td>\n",
       "      <td>Transaction issue</td>\n",
       "      <td>NaN</td>\n",
       "      <td>NaN</td>\n",
       "      <td>NaN</td>\n",
       "      <td>Bank of America</td>\n",
       "      <td>MA</td>\n",
       "      <td>02127</td>\n",
       "      <td>NaN</td>\n",
       "      <td>NaN</td>\n",
       "      <td>Web</td>\n",
       "      <td>Closed with explanation</td>\n",
       "      <td>Yes</td>\n",
       "      <td>No</td>\n",
       "      <td>1132572</td>\n",
       "      <td>691200000000000</td>\n",
       "    </tr>\n",
       "  </tbody>\n",
       "</table>\n",
       "</div>"
      ],
      "text/plain": [
       "                   Product                  Sub-product  \\\n",
       "0              Credit card                          NaN   \n",
       "1  Bank account or service  (CD) Certificate of deposit   \n",
       "2         Credit reporting                          NaN   \n",
       "3              Credit card                          NaN   \n",
       "4              Credit card                          NaN   \n",
       "\n",
       "                                      Issue       Sub-issue  \\\n",
       "0                         Billing statement             NaN   \n",
       "1  Making/receiving payments, sending money             NaN   \n",
       "2    Incorrect information on credit report  Account status   \n",
       "3                         Billing statement             NaN   \n",
       "4                         Transaction issue             NaN   \n",
       "\n",
       "                        Consumer complaint narrative  \\\n",
       "0                                                NaN   \n",
       "1                                                NaN   \n",
       "2                                                NaN   \n",
       "3  My credit card statement from US Bank, XXXX. X...   \n",
       "4                                                NaN   \n",
       "\n",
       "                            Company public response                Company  \\\n",
       "0                                               NaN  Wells Fargo & Company   \n",
       "1                                               NaN      Santander Bank US   \n",
       "2                                               NaN                Equifax   \n",
       "3  Company chooses not to provide a public response           U.S. Bancorp   \n",
       "4                                               NaN        Bank of America   \n",
       "\n",
       "  State ZIP code            Tags Consumer consent provided? Submitted via  \\\n",
       "0    MI    48342  Older American                        NaN           Web   \n",
       "1    PA    18042             NaN                        NaN      Referral   \n",
       "2    CA    92427             NaN                        NaN      Referral   \n",
       "3    GA    305XX  Older American           Consent provided           Web   \n",
       "4    MA    02127             NaN                        NaN           Web   \n",
       "\n",
       "      Company response to consumer Timely response? Consumer disputed?  \\\n",
       "0          Closed with explanation              Yes                 No   \n",
       "1                           Closed              Yes                 No   \n",
       "2  Closed with non-monetary relief              Yes                 No   \n",
       "3      Closed with monetary relief              Yes                 No   \n",
       "4          Closed with explanation              Yes                 No   \n",
       "\n",
       "   Complaint ID  day_difffrom_Date  \n",
       "0        856103     86400000000000  \n",
       "1       1034666    518400000000000  \n",
       "2        756363   1814400000000000  \n",
       "3       1474177                  0  \n",
       "4       1132572    691200000000000  "
      ]
     },
     "execution_count": 24,
     "metadata": {},
     "output_type": "execute_result"
    }
   ],
   "source": [
    "df_train.head()"
   ]
  },
  {
   "cell_type": "code",
   "execution_count": 25,
   "metadata": {},
   "outputs": [
    {
     "data": {
      "text/plain": [
       "Product                         object\n",
       "Sub-product                     object\n",
       "Issue                           object\n",
       "Sub-issue                       object\n",
       "Consumer complaint narrative    object\n",
       "Company public response         object\n",
       "Company                         object\n",
       "State                           object\n",
       "ZIP code                        object\n",
       "Tags                            object\n",
       "Consumer consent provided?      object\n",
       "Submitted via                   object\n",
       "Company response to consumer    object\n",
       "Timely response?                object\n",
       "Consumer disputed?              object\n",
       "Complaint ID                     int64\n",
       "day_difffrom_Date                int64\n",
       "dtype: object"
      ]
     },
     "execution_count": 25,
     "metadata": {},
     "output_type": "execute_result"
    }
   ],
   "source": [
    "df_train.dtypes"
   ]
  },
  {
   "cell_type": "code",
   "execution_count": 26,
   "metadata": {},
   "outputs": [
    {
     "name": "stdout",
     "output_type": "stream",
     "text": [
      "Product : 12\n",
      "Sub-product : 47\n",
      "Issue : 95\n",
      "Sub-issue : 68\n",
      "Consumer complaint narrative : 74019\n",
      "Company public response : 10\n",
      "Company : 3276\n",
      "State : 62\n",
      "ZIP code : 25962\n",
      "Tags : 3\n",
      "Consumer consent provided? : 4\n",
      "Submitted via : 6\n",
      "Company response to consumer : 7\n",
      "Timely response? : 2\n",
      "Consumer disputed? : 2\n"
     ]
    }
   ],
   "source": [
    "#print object dtypes col & how many unique value\n",
    "for col in df_train.select_dtypes(['object']).columns:\n",
    "    print(col,':',df_train[col].nunique())"
   ]
  },
  {
   "cell_type": "code",
   "execution_count": 27,
   "metadata": {},
   "outputs": [],
   "source": [
    "for col in ['Company public response','Consumer complaint narrative',\n",
    "            'Consumer consent provided?','Sub-issue',\"Sub-product\",'Tags']:\n",
    "    replace_name = col.replace(' ','_').replace('?','_').replace('-','_') + '_isNaN'  #replace the \" \"and \"?\" and \"-\" with \"_\"\n",
    "    df_train[replace_name] = np.where(pd.isnull(df_train[col]),1,0)\n",
    "    del df_train[col] "
   ]
  },
  {
   "cell_type": "code",
   "execution_count": 28,
   "metadata": {},
   "outputs": [
    {
     "data": {
      "text/html": [
       "<div>\n",
       "<style scoped>\n",
       "    .dataframe tbody tr th:only-of-type {\n",
       "        vertical-align: middle;\n",
       "    }\n",
       "\n",
       "    .dataframe tbody tr th {\n",
       "        vertical-align: top;\n",
       "    }\n",
       "\n",
       "    .dataframe thead th {\n",
       "        text-align: right;\n",
       "    }\n",
       "</style>\n",
       "<table border=\"1\" class=\"dataframe\">\n",
       "  <thead>\n",
       "    <tr style=\"text-align: right;\">\n",
       "      <th></th>\n",
       "      <th>Product</th>\n",
       "      <th>Issue</th>\n",
       "      <th>Company</th>\n",
       "      <th>State</th>\n",
       "      <th>ZIP code</th>\n",
       "      <th>Submitted via</th>\n",
       "      <th>Company response to consumer</th>\n",
       "      <th>Timely response?</th>\n",
       "      <th>Consumer disputed?</th>\n",
       "      <th>Complaint ID</th>\n",
       "      <th>day_difffrom_Date</th>\n",
       "      <th>Company_public_response_isNaN</th>\n",
       "      <th>Consumer_complaint_narrative_isNaN</th>\n",
       "      <th>Consumer_consent_provided__isNaN</th>\n",
       "      <th>Sub_issue_isNaN</th>\n",
       "      <th>Sub_product_isNaN</th>\n",
       "      <th>Tags_isNaN</th>\n",
       "    </tr>\n",
       "  </thead>\n",
       "  <tbody>\n",
       "    <tr>\n",
       "      <th>0</th>\n",
       "      <td>Credit card</td>\n",
       "      <td>Billing statement</td>\n",
       "      <td>Wells Fargo &amp; Company</td>\n",
       "      <td>MI</td>\n",
       "      <td>48342</td>\n",
       "      <td>Web</td>\n",
       "      <td>Closed with explanation</td>\n",
       "      <td>Yes</td>\n",
       "      <td>No</td>\n",
       "      <td>856103</td>\n",
       "      <td>86400000000000</td>\n",
       "      <td>1</td>\n",
       "      <td>1</td>\n",
       "      <td>1</td>\n",
       "      <td>1</td>\n",
       "      <td>1</td>\n",
       "      <td>0</td>\n",
       "    </tr>\n",
       "    <tr>\n",
       "      <th>1</th>\n",
       "      <td>Bank account or service</td>\n",
       "      <td>Making/receiving payments, sending money</td>\n",
       "      <td>Santander Bank US</td>\n",
       "      <td>PA</td>\n",
       "      <td>18042</td>\n",
       "      <td>Referral</td>\n",
       "      <td>Closed</td>\n",
       "      <td>Yes</td>\n",
       "      <td>No</td>\n",
       "      <td>1034666</td>\n",
       "      <td>518400000000000</td>\n",
       "      <td>1</td>\n",
       "      <td>1</td>\n",
       "      <td>1</td>\n",
       "      <td>1</td>\n",
       "      <td>0</td>\n",
       "      <td>1</td>\n",
       "    </tr>\n",
       "    <tr>\n",
       "      <th>2</th>\n",
       "      <td>Credit reporting</td>\n",
       "      <td>Incorrect information on credit report</td>\n",
       "      <td>Equifax</td>\n",
       "      <td>CA</td>\n",
       "      <td>92427</td>\n",
       "      <td>Referral</td>\n",
       "      <td>Closed with non-monetary relief</td>\n",
       "      <td>Yes</td>\n",
       "      <td>No</td>\n",
       "      <td>756363</td>\n",
       "      <td>1814400000000000</td>\n",
       "      <td>1</td>\n",
       "      <td>1</td>\n",
       "      <td>1</td>\n",
       "      <td>0</td>\n",
       "      <td>1</td>\n",
       "      <td>1</td>\n",
       "    </tr>\n",
       "    <tr>\n",
       "      <th>3</th>\n",
       "      <td>Credit card</td>\n",
       "      <td>Billing statement</td>\n",
       "      <td>U.S. Bancorp</td>\n",
       "      <td>GA</td>\n",
       "      <td>305XX</td>\n",
       "      <td>Web</td>\n",
       "      <td>Closed with monetary relief</td>\n",
       "      <td>Yes</td>\n",
       "      <td>No</td>\n",
       "      <td>1474177</td>\n",
       "      <td>0</td>\n",
       "      <td>0</td>\n",
       "      <td>0</td>\n",
       "      <td>0</td>\n",
       "      <td>1</td>\n",
       "      <td>1</td>\n",
       "      <td>0</td>\n",
       "    </tr>\n",
       "    <tr>\n",
       "      <th>4</th>\n",
       "      <td>Credit card</td>\n",
       "      <td>Transaction issue</td>\n",
       "      <td>Bank of America</td>\n",
       "      <td>MA</td>\n",
       "      <td>02127</td>\n",
       "      <td>Web</td>\n",
       "      <td>Closed with explanation</td>\n",
       "      <td>Yes</td>\n",
       "      <td>No</td>\n",
       "      <td>1132572</td>\n",
       "      <td>691200000000000</td>\n",
       "      <td>1</td>\n",
       "      <td>1</td>\n",
       "      <td>1</td>\n",
       "      <td>1</td>\n",
       "      <td>1</td>\n",
       "      <td>1</td>\n",
       "    </tr>\n",
       "  </tbody>\n",
       "</table>\n",
       "</div>"
      ],
      "text/plain": [
       "                   Product                                     Issue  \\\n",
       "0              Credit card                         Billing statement   \n",
       "1  Bank account or service  Making/receiving payments, sending money   \n",
       "2         Credit reporting    Incorrect information on credit report   \n",
       "3              Credit card                         Billing statement   \n",
       "4              Credit card                         Transaction issue   \n",
       "\n",
       "                 Company State ZIP code Submitted via  \\\n",
       "0  Wells Fargo & Company    MI    48342           Web   \n",
       "1      Santander Bank US    PA    18042      Referral   \n",
       "2                Equifax    CA    92427      Referral   \n",
       "3           U.S. Bancorp    GA    305XX           Web   \n",
       "4        Bank of America    MA    02127           Web   \n",
       "\n",
       "      Company response to consumer Timely response? Consumer disputed?  \\\n",
       "0          Closed with explanation              Yes                 No   \n",
       "1                           Closed              Yes                 No   \n",
       "2  Closed with non-monetary relief              Yes                 No   \n",
       "3      Closed with monetary relief              Yes                 No   \n",
       "4          Closed with explanation              Yes                 No   \n",
       "\n",
       "   Complaint ID  day_difffrom_Date  Company_public_response_isNaN  \\\n",
       "0        856103     86400000000000                              1   \n",
       "1       1034666    518400000000000                              1   \n",
       "2        756363   1814400000000000                              1   \n",
       "3       1474177                  0                              0   \n",
       "4       1132572    691200000000000                              1   \n",
       "\n",
       "   Consumer_complaint_narrative_isNaN  Consumer_consent_provided__isNaN  \\\n",
       "0                                   1                                 1   \n",
       "1                                   1                                 1   \n",
       "2                                   1                                 1   \n",
       "3                                   0                                 0   \n",
       "4                                   1                                 1   \n",
       "\n",
       "   Sub_issue_isNaN  Sub_product_isNaN  Tags_isNaN  \n",
       "0                1                  1           0  \n",
       "1                1                  0           1  \n",
       "2                0                  1           1  \n",
       "3                1                  1           0  \n",
       "4                1                  1           1  "
      ]
     },
     "execution_count": 28,
     "metadata": {},
     "output_type": "execute_result"
    }
   ],
   "source": [
    "df_train.head()"
   ]
  },
  {
   "cell_type": "code",
   "execution_count": 29,
   "metadata": {},
   "outputs": [
    {
     "name": "stdout",
     "output_type": "stream",
     "text": [
      "Product : 12\n",
      "Issue : 95\n",
      "Company : 3276\n",
      "State : 62\n",
      "ZIP code : 25962\n",
      "Submitted via : 6\n",
      "Company response to consumer : 7\n",
      "Timely response? : 2\n",
      "Consumer disputed? : 2\n"
     ]
    }
   ],
   "source": [
    "#print object col & how many unique value\n",
    "for col in df_train.select_dtypes(['object']).columns:\n",
    "    print(col,\":\",df_train[col].nunique())"
   ]
  },
  {
   "cell_type": "code",
   "execution_count": 30,
   "metadata": {},
   "outputs": [],
   "source": [
    "#Drop ZIP code,Company col lot's of null value is present in the col\n",
    "for col in ['ZIP code','Company']:\n",
    "    df_train.drop([col],axis=1,inplace=True)"
   ]
  },
  {
   "cell_type": "code",
   "execution_count": 31,
   "metadata": {},
   "outputs": [],
   "source": [
    "#where(): Process elements depending on conditions with 0 and 1\n",
    "df_train['Consumer disputed?'] = np.where(df_train['Consumer disputed?']=='Yes',1,0)  "
   ]
  },
  {
   "cell_type": "code",
   "execution_count": 32,
   "metadata": {},
   "outputs": [],
   "source": [
    "ise = df_train['Issue'].value_counts()\n",
    "for val in ise.axes[0][0:10]:  #rearranging the data\n",
    "    replace_name = 'Issue_'+val.replace(',','_').replace(' ','_') #replace \",\" and \" \" with \"_\"\n",
    "    df_train[replace_name] = np.where(df_train['Issue']==val,1,0) #apply where cond and convert 1,0\n",
    "\n",
    "del df_train['Issue']  #delete issue objects in Python"
   ]
  },
  {
   "cell_type": "code",
   "execution_count": 33,
   "metadata": {},
   "outputs": [],
   "source": [
    "ise =df_train['State'].value_counts()\n",
    "for val in ise.axes[0][0:10]: #rearranging the data\n",
    "    replace_name = 'State_'+val.replace(',','_').replace(' ','_')  #replace \",\" and \" \" with \"_\"\n",
    "    df_train[replace_name] = np.where(df_train['State']==val,1,0) #apply where cond and convert 1,0\n",
    "\n",
    "del df_train['State'] #delete State objects in Python"
   ]
  },
  {
   "cell_type": "code",
   "execution_count": 34,
   "metadata": {},
   "outputs": [],
   "source": [
    "for col in ['Product','Submitted via','Company response to consumer','Timely response?']:\n",
    "    \n",
    "    temp = pd.get_dummies(df_train[col],prefix=col,drop_first=True)  #use one hot encoding\n",
    "    df_train = pd.concat([temp,df_train],1)\n",
    "    df_train.drop([col],1,inplace=True)"
   ]
  },
  {
   "cell_type": "code",
   "execution_count": 35,
   "metadata": {},
   "outputs": [
    {
     "data": {
      "text/html": [
       "<div>\n",
       "<style scoped>\n",
       "    .dataframe tbody tr th:only-of-type {\n",
       "        vertical-align: middle;\n",
       "    }\n",
       "\n",
       "    .dataframe tbody tr th {\n",
       "        vertical-align: top;\n",
       "    }\n",
       "\n",
       "    .dataframe thead th {\n",
       "        text-align: right;\n",
       "    }\n",
       "</style>\n",
       "<table border=\"1\" class=\"dataframe\">\n",
       "  <thead>\n",
       "    <tr style=\"text-align: right;\">\n",
       "      <th></th>\n",
       "      <th>Timely response?_Yes</th>\n",
       "      <th>Company response to consumer_Closed with explanation</th>\n",
       "      <th>Company response to consumer_Closed with monetary relief</th>\n",
       "      <th>Company response to consumer_Closed with non-monetary relief</th>\n",
       "      <th>Company response to consumer_Closed with relief</th>\n",
       "      <th>Company response to consumer_Closed without relief</th>\n",
       "      <th>Company response to consumer_Untimely response</th>\n",
       "      <th>Submitted via_Fax</th>\n",
       "      <th>Submitted via_Phone</th>\n",
       "      <th>Submitted via_Postal mail</th>\n",
       "      <th>...</th>\n",
       "      <th>State_CA</th>\n",
       "      <th>State_FL</th>\n",
       "      <th>State_TX</th>\n",
       "      <th>State_NY</th>\n",
       "      <th>State_GA</th>\n",
       "      <th>State_NJ</th>\n",
       "      <th>State_PA</th>\n",
       "      <th>State_IL</th>\n",
       "      <th>State_VA</th>\n",
       "      <th>State_MD</th>\n",
       "    </tr>\n",
       "  </thead>\n",
       "  <tbody>\n",
       "    <tr>\n",
       "      <th>0</th>\n",
       "      <td>1</td>\n",
       "      <td>1</td>\n",
       "      <td>0</td>\n",
       "      <td>0</td>\n",
       "      <td>0</td>\n",
       "      <td>0</td>\n",
       "      <td>0</td>\n",
       "      <td>0</td>\n",
       "      <td>0</td>\n",
       "      <td>0</td>\n",
       "      <td>...</td>\n",
       "      <td>0</td>\n",
       "      <td>0</td>\n",
       "      <td>0</td>\n",
       "      <td>0</td>\n",
       "      <td>0</td>\n",
       "      <td>0</td>\n",
       "      <td>0</td>\n",
       "      <td>0</td>\n",
       "      <td>0</td>\n",
       "      <td>0</td>\n",
       "    </tr>\n",
       "    <tr>\n",
       "      <th>1</th>\n",
       "      <td>1</td>\n",
       "      <td>0</td>\n",
       "      <td>0</td>\n",
       "      <td>0</td>\n",
       "      <td>0</td>\n",
       "      <td>0</td>\n",
       "      <td>0</td>\n",
       "      <td>0</td>\n",
       "      <td>0</td>\n",
       "      <td>0</td>\n",
       "      <td>...</td>\n",
       "      <td>0</td>\n",
       "      <td>0</td>\n",
       "      <td>0</td>\n",
       "      <td>0</td>\n",
       "      <td>0</td>\n",
       "      <td>0</td>\n",
       "      <td>1</td>\n",
       "      <td>0</td>\n",
       "      <td>0</td>\n",
       "      <td>0</td>\n",
       "    </tr>\n",
       "    <tr>\n",
       "      <th>2</th>\n",
       "      <td>1</td>\n",
       "      <td>0</td>\n",
       "      <td>0</td>\n",
       "      <td>1</td>\n",
       "      <td>0</td>\n",
       "      <td>0</td>\n",
       "      <td>0</td>\n",
       "      <td>0</td>\n",
       "      <td>0</td>\n",
       "      <td>0</td>\n",
       "      <td>...</td>\n",
       "      <td>1</td>\n",
       "      <td>0</td>\n",
       "      <td>0</td>\n",
       "      <td>0</td>\n",
       "      <td>0</td>\n",
       "      <td>0</td>\n",
       "      <td>0</td>\n",
       "      <td>0</td>\n",
       "      <td>0</td>\n",
       "      <td>0</td>\n",
       "    </tr>\n",
       "    <tr>\n",
       "      <th>3</th>\n",
       "      <td>1</td>\n",
       "      <td>0</td>\n",
       "      <td>1</td>\n",
       "      <td>0</td>\n",
       "      <td>0</td>\n",
       "      <td>0</td>\n",
       "      <td>0</td>\n",
       "      <td>0</td>\n",
       "      <td>0</td>\n",
       "      <td>0</td>\n",
       "      <td>...</td>\n",
       "      <td>0</td>\n",
       "      <td>0</td>\n",
       "      <td>0</td>\n",
       "      <td>0</td>\n",
       "      <td>1</td>\n",
       "      <td>0</td>\n",
       "      <td>0</td>\n",
       "      <td>0</td>\n",
       "      <td>0</td>\n",
       "      <td>0</td>\n",
       "    </tr>\n",
       "    <tr>\n",
       "      <th>4</th>\n",
       "      <td>1</td>\n",
       "      <td>1</td>\n",
       "      <td>0</td>\n",
       "      <td>0</td>\n",
       "      <td>0</td>\n",
       "      <td>0</td>\n",
       "      <td>0</td>\n",
       "      <td>0</td>\n",
       "      <td>0</td>\n",
       "      <td>0</td>\n",
       "      <td>...</td>\n",
       "      <td>0</td>\n",
       "      <td>0</td>\n",
       "      <td>0</td>\n",
       "      <td>0</td>\n",
       "      <td>0</td>\n",
       "      <td>0</td>\n",
       "      <td>0</td>\n",
       "      <td>0</td>\n",
       "      <td>0</td>\n",
       "      <td>0</td>\n",
       "    </tr>\n",
       "  </tbody>\n",
       "</table>\n",
       "<p>5 rows × 52 columns</p>\n",
       "</div>"
      ],
      "text/plain": [
       "   Timely response?_Yes  Company response to consumer_Closed with explanation  \\\n",
       "0                     1                                                  1      \n",
       "1                     1                                                  0      \n",
       "2                     1                                                  0      \n",
       "3                     1                                                  0      \n",
       "4                     1                                                  1      \n",
       "\n",
       "   Company response to consumer_Closed with monetary relief  \\\n",
       "0                                                  0          \n",
       "1                                                  0          \n",
       "2                                                  0          \n",
       "3                                                  1          \n",
       "4                                                  0          \n",
       "\n",
       "   Company response to consumer_Closed with non-monetary relief  \\\n",
       "0                                                  0              \n",
       "1                                                  0              \n",
       "2                                                  1              \n",
       "3                                                  0              \n",
       "4                                                  0              \n",
       "\n",
       "   Company response to consumer_Closed with relief  \\\n",
       "0                                                0   \n",
       "1                                                0   \n",
       "2                                                0   \n",
       "3                                                0   \n",
       "4                                                0   \n",
       "\n",
       "   Company response to consumer_Closed without relief  \\\n",
       "0                                                  0    \n",
       "1                                                  0    \n",
       "2                                                  0    \n",
       "3                                                  0    \n",
       "4                                                  0    \n",
       "\n",
       "   Company response to consumer_Untimely response  Submitted via_Fax  \\\n",
       "0                                               0                  0   \n",
       "1                                               0                  0   \n",
       "2                                               0                  0   \n",
       "3                                               0                  0   \n",
       "4                                               0                  0   \n",
       "\n",
       "   Submitted via_Phone  Submitted via_Postal mail  ...  State_CA  State_FL  \\\n",
       "0                    0                          0  ...         0         0   \n",
       "1                    0                          0  ...         0         0   \n",
       "2                    0                          0  ...         1         0   \n",
       "3                    0                          0  ...         0         0   \n",
       "4                    0                          0  ...         0         0   \n",
       "\n",
       "   State_TX  State_NY  State_GA  State_NJ  State_PA  State_IL  State_VA  \\\n",
       "0         0         0         0         0         0         0         0   \n",
       "1         0         0         0         0         1         0         0   \n",
       "2         0         0         0         0         0         0         0   \n",
       "3         0         0         1         0         0         0         0   \n",
       "4         0         0         0         0         0         0         0   \n",
       "\n",
       "   State_MD  \n",
       "0         0  \n",
       "1         0  \n",
       "2         0  \n",
       "3         0  \n",
       "4         0  \n",
       "\n",
       "[5 rows x 52 columns]"
      ]
     },
     "execution_count": 35,
     "metadata": {},
     "output_type": "execute_result"
    }
   ],
   "source": [
    "df_train.head()"
   ]
  },
  {
   "cell_type": "code",
   "execution_count": 36,
   "metadata": {},
   "outputs": [
    {
     "data": {
      "text/plain": [
       "0    376990\n",
       "1    101431\n",
       "Name: Consumer disputed?, dtype: int64"
      ]
     },
     "execution_count": 36,
     "metadata": {},
     "output_type": "execute_result"
    }
   ],
   "source": [
    "p=df_train['Consumer disputed?'].value_counts()   #Return a Series containing counts of unique values \n",
    "p"
   ]
  },
  {
   "cell_type": "code",
   "execution_count": 37,
   "metadata": {},
   "outputs": [
    {
     "data": {
      "text/plain": [
       "239210.5"
      ]
     },
     "execution_count": 37,
     "metadata": {},
     "output_type": "execute_result"
    }
   ],
   "source": [
    "perc=np.percentile(p,50)  #return the 40th percentile\n",
    "perc"
   ]
  },
  {
   "cell_type": "code",
   "execution_count": 38,
   "metadata": {},
   "outputs": [
    {
     "data": {
      "text/plain": [
       "Timely response?_Yes                                            0\n",
       "Company response to consumer_Closed with explanation            0\n",
       "Company response to consumer_Closed with monetary relief        0\n",
       "Company response to consumer_Closed with non-monetary relief    0\n",
       "Company response to consumer_Closed with relief                 0\n",
       "Company response to consumer_Closed without relief              0\n",
       "Company response to consumer_Untimely response                  0\n",
       "Submitted via_Fax                                               0\n",
       "Submitted via_Phone                                             0\n",
       "Submitted via_Postal mail                                       0\n",
       "Submitted via_Referral                                          0\n",
       "Submitted via_Web                                               0\n",
       "Product_Consumer Loan                                           0\n",
       "Product_Credit card                                             0\n",
       "Product_Credit reporting                                        0\n",
       "Product_Debt collection                                         0\n",
       "Product_Money transfers                                         0\n",
       "Product_Mortgage                                                0\n",
       "Product_Other financial service                                 0\n",
       "Product_Payday loan                                             0\n",
       "Product_Prepaid card                                            0\n",
       "Product_Student loan                                            0\n",
       "Product_Virtual currency                                        0\n",
       "Consumer disputed?                                              0\n",
       "Complaint ID                                                    0\n",
       "day_difffrom_Date                                               0\n",
       "Company_public_response_isNaN                                   0\n",
       "Consumer_complaint_narrative_isNaN                              0\n",
       "Consumer_consent_provided__isNaN                                0\n",
       "Sub_issue_isNaN                                                 0\n",
       "Sub_product_isNaN                                               0\n",
       "Tags_isNaN                                                      0\n",
       "Issue_Loan_modification_collection_foreclosure                  0\n",
       "Issue_Incorrect_information_on_credit_report                    0\n",
       "Issue_Loan_servicing__payments__escrow_account                  0\n",
       "Issue_Cont'd_attempts_collect_debt_not_owed                     0\n",
       "Issue_Account_opening__closing__or_management                   0\n",
       "Issue_Disclosure_verification_of_debt                           0\n",
       "Issue_Communication_tactics                                     0\n",
       "Issue_Deposits_and_withdrawals                                  0\n",
       "Issue_Application__originator__mortgage_broker                  0\n",
       "Issue_Billing_disputes                                          0\n",
       "State_CA                                                        0\n",
       "State_FL                                                        0\n",
       "State_TX                                                        0\n",
       "State_NY                                                        0\n",
       "State_GA                                                        0\n",
       "State_NJ                                                        0\n",
       "State_PA                                                        0\n",
       "State_IL                                                        0\n",
       "State_VA                                                        0\n",
       "State_MD                                                        0\n",
       "dtype: int64"
      ]
     },
     "execution_count": 38,
     "metadata": {},
     "output_type": "execute_result"
    }
   ],
   "source": [
    "df_train.isnull().sum()"
   ]
  },
  {
   "cell_type": "code",
   "execution_count": 39,
   "metadata": {},
   "outputs": [
    {
     "data": {
      "text/plain": [
       "(478421, 52)"
      ]
     },
     "execution_count": 39,
     "metadata": {},
     "output_type": "execute_result"
    }
   ],
   "source": [
    "df_train.shape"
   ]
  },
  {
   "cell_type": "markdown",
   "metadata": {},
   "source": [
    "# CLEAN TEST DATA"
   ]
  },
  {
   "cell_type": "code",
   "execution_count": 40,
   "metadata": {},
   "outputs": [],
   "source": [
    "#Read data from your local path.\n",
    "#csv file is provided here without path, because its present in the folder where this notebook is present.\n",
    "#If this file is present in some other path, then pd.read_csv('C:/users/hotel_bookings.csv')\n",
    "#Path should be of your local file\n",
    "\n",
    "df_test = pd.read_csv(\"Consumer_Complaints_test_share.csv\")  #read test dataset"
   ]
  },
  {
   "cell_type": "code",
   "execution_count": 41,
   "metadata": {},
   "outputs": [
    {
     "data": {
      "text/html": [
       "<div>\n",
       "<style scoped>\n",
       "    .dataframe tbody tr th:only-of-type {\n",
       "        vertical-align: middle;\n",
       "    }\n",
       "\n",
       "    .dataframe tbody tr th {\n",
       "        vertical-align: top;\n",
       "    }\n",
       "\n",
       "    .dataframe thead th {\n",
       "        text-align: right;\n",
       "    }\n",
       "</style>\n",
       "<table border=\"1\" class=\"dataframe\">\n",
       "  <thead>\n",
       "    <tr style=\"text-align: right;\">\n",
       "      <th></th>\n",
       "      <th>Date received</th>\n",
       "      <th>Product</th>\n",
       "      <th>Sub-product</th>\n",
       "      <th>Issue</th>\n",
       "      <th>Sub-issue</th>\n",
       "      <th>Consumer complaint narrative</th>\n",
       "      <th>Company public response</th>\n",
       "      <th>Company</th>\n",
       "      <th>State</th>\n",
       "      <th>ZIP code</th>\n",
       "      <th>Tags</th>\n",
       "      <th>Consumer consent provided?</th>\n",
       "      <th>Submitted via</th>\n",
       "      <th>Date sent to company</th>\n",
       "      <th>Company response to consumer</th>\n",
       "      <th>Timely response?</th>\n",
       "      <th>Complaint ID</th>\n",
       "    </tr>\n",
       "  </thead>\n",
       "  <tbody>\n",
       "    <tr>\n",
       "      <th>0</th>\n",
       "      <td>2014-01-18</td>\n",
       "      <td>Bank account or service</td>\n",
       "      <td>Cashing a check without an account</td>\n",
       "      <td>Deposits and withdrawals</td>\n",
       "      <td>NaN</td>\n",
       "      <td>NaN</td>\n",
       "      <td>NaN</td>\n",
       "      <td>Bank of America</td>\n",
       "      <td>CA</td>\n",
       "      <td>95691</td>\n",
       "      <td>NaN</td>\n",
       "      <td>NaN</td>\n",
       "      <td>Web</td>\n",
       "      <td>2014-01-17</td>\n",
       "      <td>Closed with explanation</td>\n",
       "      <td>Yes</td>\n",
       "      <td>675956</td>\n",
       "    </tr>\n",
       "    <tr>\n",
       "      <th>1</th>\n",
       "      <td>2016-03-31</td>\n",
       "      <td>Debt collection</td>\n",
       "      <td>Credit card</td>\n",
       "      <td>Cont'd attempts collect debt not owed</td>\n",
       "      <td>Debt was paid</td>\n",
       "      <td>NaN</td>\n",
       "      <td>NaN</td>\n",
       "      <td>National Credit Adjusters, LLC</td>\n",
       "      <td>FL</td>\n",
       "      <td>32086</td>\n",
       "      <td>NaN</td>\n",
       "      <td>Consent not provided</td>\n",
       "      <td>Web</td>\n",
       "      <td>2016-03-31</td>\n",
       "      <td>Closed with explanation</td>\n",
       "      <td>Yes</td>\n",
       "      <td>1858795</td>\n",
       "    </tr>\n",
       "    <tr>\n",
       "      <th>2</th>\n",
       "      <td>2012-03-08</td>\n",
       "      <td>Mortgage</td>\n",
       "      <td>Conventional adjustable mortgage (ARM)</td>\n",
       "      <td>Loan servicing, payments, escrow account</td>\n",
       "      <td>NaN</td>\n",
       "      <td>NaN</td>\n",
       "      <td>NaN</td>\n",
       "      <td>Wells Fargo &amp; Company</td>\n",
       "      <td>CA</td>\n",
       "      <td>94618</td>\n",
       "      <td>NaN</td>\n",
       "      <td>NaN</td>\n",
       "      <td>Web</td>\n",
       "      <td>2012-03-09</td>\n",
       "      <td>Closed without relief</td>\n",
       "      <td>Yes</td>\n",
       "      <td>32637</td>\n",
       "    </tr>\n",
       "    <tr>\n",
       "      <th>3</th>\n",
       "      <td>2016-01-07</td>\n",
       "      <td>Credit reporting</td>\n",
       "      <td>NaN</td>\n",
       "      <td>Unable to get credit report/credit score</td>\n",
       "      <td>Problem getting report or credit score</td>\n",
       "      <td>NaN</td>\n",
       "      <td>Company chooses not to provide a public response</td>\n",
       "      <td>TransUnion Intermediate Holdings, Inc.</td>\n",
       "      <td>FL</td>\n",
       "      <td>33584</td>\n",
       "      <td>Older American</td>\n",
       "      <td>NaN</td>\n",
       "      <td>Postal mail</td>\n",
       "      <td>2016-01-12</td>\n",
       "      <td>Closed with non-monetary relief</td>\n",
       "      <td>Yes</td>\n",
       "      <td>1731374</td>\n",
       "    </tr>\n",
       "    <tr>\n",
       "      <th>4</th>\n",
       "      <td>2013-08-23</td>\n",
       "      <td>Mortgage</td>\n",
       "      <td>FHA mortgage</td>\n",
       "      <td>Loan modification,collection,foreclosure</td>\n",
       "      <td>NaN</td>\n",
       "      <td>NaN</td>\n",
       "      <td>NaN</td>\n",
       "      <td>Bank of America</td>\n",
       "      <td>FL</td>\n",
       "      <td>33543</td>\n",
       "      <td>NaN</td>\n",
       "      <td>NaN</td>\n",
       "      <td>Web</td>\n",
       "      <td>2013-08-23</td>\n",
       "      <td>Closed with explanation</td>\n",
       "      <td>Yes</td>\n",
       "      <td>501487</td>\n",
       "    </tr>\n",
       "  </tbody>\n",
       "</table>\n",
       "</div>"
      ],
      "text/plain": [
       "  Date received                  Product  \\\n",
       "0    2014-01-18  Bank account or service   \n",
       "1    2016-03-31          Debt collection   \n",
       "2    2012-03-08                 Mortgage   \n",
       "3    2016-01-07         Credit reporting   \n",
       "4    2013-08-23                 Mortgage   \n",
       "\n",
       "                              Sub-product  \\\n",
       "0      Cashing a check without an account   \n",
       "1                             Credit card   \n",
       "2  Conventional adjustable mortgage (ARM)   \n",
       "3                                     NaN   \n",
       "4                            FHA mortgage   \n",
       "\n",
       "                                      Issue  \\\n",
       "0                  Deposits and withdrawals   \n",
       "1     Cont'd attempts collect debt not owed   \n",
       "2  Loan servicing, payments, escrow account   \n",
       "3  Unable to get credit report/credit score   \n",
       "4  Loan modification,collection,foreclosure   \n",
       "\n",
       "                                Sub-issue Consumer complaint narrative  \\\n",
       "0                                     NaN                          NaN   \n",
       "1                           Debt was paid                          NaN   \n",
       "2                                     NaN                          NaN   \n",
       "3  Problem getting report or credit score                          NaN   \n",
       "4                                     NaN                          NaN   \n",
       "\n",
       "                            Company public response  \\\n",
       "0                                               NaN   \n",
       "1                                               NaN   \n",
       "2                                               NaN   \n",
       "3  Company chooses not to provide a public response   \n",
       "4                                               NaN   \n",
       "\n",
       "                                  Company State ZIP code            Tags  \\\n",
       "0                         Bank of America    CA    95691             NaN   \n",
       "1          National Credit Adjusters, LLC    FL    32086             NaN   \n",
       "2                   Wells Fargo & Company    CA    94618             NaN   \n",
       "3  TransUnion Intermediate Holdings, Inc.    FL    33584  Older American   \n",
       "4                         Bank of America    FL    33543             NaN   \n",
       "\n",
       "  Consumer consent provided? Submitted via Date sent to company  \\\n",
       "0                        NaN           Web           2014-01-17   \n",
       "1       Consent not provided           Web           2016-03-31   \n",
       "2                        NaN           Web           2012-03-09   \n",
       "3                        NaN   Postal mail           2016-01-12   \n",
       "4                        NaN           Web           2013-08-23   \n",
       "\n",
       "      Company response to consumer Timely response?  Complaint ID  \n",
       "0          Closed with explanation              Yes        675956  \n",
       "1          Closed with explanation              Yes       1858795  \n",
       "2            Closed without relief              Yes         32637  \n",
       "3  Closed with non-monetary relief              Yes       1731374  \n",
       "4          Closed with explanation              Yes        501487  "
      ]
     },
     "execution_count": 41,
     "metadata": {},
     "output_type": "execute_result"
    }
   ],
   "source": [
    "#Displaying top 5 values in a dataframe\n",
    "#for different count like top 10 or 20, etc, --> train.head(10) or train.head(20)\n",
    "#for last values in dataframe --> train.tail()\n",
    "df_test.head()"
   ]
  },
  {
   "cell_type": "code",
   "execution_count": 42,
   "metadata": {},
   "outputs": [
    {
     "data": {
      "text/plain": [
       "(119606, 17)"
      ]
     },
     "execution_count": 42,
     "metadata": {},
     "output_type": "execute_result"
    }
   ],
   "source": [
    "df_test.shape #The shape of an array is the number of elements in each dimension"
   ]
  },
  {
   "cell_type": "code",
   "execution_count": 43,
   "metadata": {},
   "outputs": [
    {
     "name": "stdout",
     "output_type": "stream",
     "text": [
      "<class 'pandas.core.frame.DataFrame'>\n",
      "RangeIndex: 119606 entries, 0 to 119605\n",
      "Data columns (total 17 columns):\n",
      "Date received                   119606 non-null object\n",
      "Product                         119606 non-null object\n",
      "Sub-product                     84854 non-null object\n",
      "Issue                           119606 non-null object\n",
      "Sub-issue                       46546 non-null object\n",
      "Consumer complaint narrative    18557 non-null object\n",
      "Company public response         22776 non-null object\n",
      "Company                         119606 non-null object\n",
      "State                           118681 non-null object\n",
      "ZIP code                        118680 non-null object\n",
      "Tags                            16871 non-null object\n",
      "Consumer consent provided?      33864 non-null object\n",
      "Submitted via                   119605 non-null object\n",
      "Date sent to company            119606 non-null object\n",
      "Company response to consumer    119606 non-null object\n",
      "Timely response?                119606 non-null object\n",
      "Complaint ID                    119606 non-null int64\n",
      "dtypes: int64(1), object(16)\n",
      "memory usage: 15.5+ MB\n"
     ]
    }
   ],
   "source": [
    "df_test.info() #return information for a function"
   ]
  },
  {
   "cell_type": "code",
   "execution_count": 44,
   "metadata": {},
   "outputs": [
    {
     "data": {
      "text/plain": [
       "Index(['Date received', 'Product', 'Sub-product', 'Issue', 'Sub-issue',\n",
       "       'Consumer complaint narrative', 'Company public response', 'Company',\n",
       "       'State', 'ZIP code', 'Tags', 'Consumer consent provided?',\n",
       "       'Submitted via', 'Date sent to company', 'Company response to consumer',\n",
       "       'Timely response?', 'Complaint ID'],\n",
       "      dtype='object')"
      ]
     },
     "execution_count": 44,
     "metadata": {},
     "output_type": "execute_result"
    }
   ],
   "source": [
    "df_test.columns  #return all columns from test dataset"
   ]
  },
  {
   "cell_type": "code",
   "execution_count": 45,
   "metadata": {},
   "outputs": [
    {
     "data": {
      "text/plain": [
       "Date received                   object\n",
       "Product                         object\n",
       "Sub-product                     object\n",
       "Issue                           object\n",
       "Sub-issue                       object\n",
       "Consumer complaint narrative    object\n",
       "Company public response         object\n",
       "Company                         object\n",
       "State                           object\n",
       "ZIP code                        object\n",
       "Tags                            object\n",
       "Consumer consent provided?      object\n",
       "Submitted via                   object\n",
       "Date sent to company            object\n",
       "Company response to consumer    object\n",
       "Timely response?                object\n",
       "Complaint ID                     int64\n",
       "dtype: object"
      ]
     },
     "execution_count": 45,
     "metadata": {},
     "output_type": "execute_result"
    }
   ],
   "source": [
    "df_test.dtypes"
   ]
  },
  {
   "cell_type": "code",
   "execution_count": 46,
   "metadata": {},
   "outputs": [
    {
     "data": {
      "text/plain": [
       "Date received                        0\n",
       "Product                              0\n",
       "Sub-product                      34752\n",
       "Issue                                0\n",
       "Sub-issue                        73060\n",
       "Consumer complaint narrative    101049\n",
       "Company public response          96830\n",
       "Company                              0\n",
       "State                              925\n",
       "ZIP code                           926\n",
       "Tags                            102735\n",
       "Consumer consent provided?       85742\n",
       "Submitted via                        1\n",
       "Date sent to company                 0\n",
       "Company response to consumer         0\n",
       "Timely response?                     0\n",
       "Complaint ID                         0\n",
       "dtype: int64"
      ]
     },
     "execution_count": 46,
     "metadata": {},
     "output_type": "execute_result"
    }
   ],
   "source": [
    "#count of null values for specific columns in dataframe\n",
    "df_test.isna().sum()"
   ]
  },
  {
   "cell_type": "code",
   "execution_count": 47,
   "metadata": {},
   "outputs": [
    {
     "data": {
      "text/plain": [
       "<matplotlib.axes._subplots.AxesSubplot at 0x1c53b143e80>"
      ]
     },
     "execution_count": 47,
     "metadata": {},
     "output_type": "execute_result"
    },
    {
     "data": {
      "image/png": "[encoded data removed]",
      "text/plain": [
       "<Figure size 1800x720 with 2 Axes>"
      ]
     },
     "metadata": {
      "needs_background": "light"
     },
     "output_type": "display_data"
    }
   ],
   "source": [
    "import missingno as msno   #Missing Data - Visualization\n",
    "msno.matrix(df_test)"
   ]
  },
  {
   "cell_type": "code",
   "execution_count": 48,
   "metadata": {},
   "outputs": [
    {
     "data": {
      "text/plain": [
       "<matplotlib.axes._subplots.AxesSubplot at 0x1c53a7a7860>"
      ]
     },
     "execution_count": 48,
     "metadata": {},
     "output_type": "execute_result"
    },
    {
     "data": {
      "image/png": "[encoded data removed]",
      "text/plain": [
       "<Figure size 1440x864 with 2 Axes>"
      ]
     },
     "metadata": {
      "needs_background": "light"
     },
     "output_type": "display_data"
    }
   ],
   "source": [
    "msno.heatmap(df_test)   #Observation:From the visual, we can see that there are many columns are empty"
   ]
  },
  {
   "cell_type": "code",
   "execution_count": 49,
   "metadata": {},
   "outputs": [
    {
     "data": {
      "text/plain": [
       "<matplotlib.axes._subplots.AxesSubplot at 0x1c53b249f60>"
      ]
     },
     "execution_count": 49,
     "metadata": {},
     "output_type": "execute_result"
    },
    {
     "data": {
      "image/png": "[encoded data removed]",
      "text/plain": [
       "<Figure size 1728x720 with 3 Axes>"
      ]
     },
     "metadata": {
      "needs_background": "light"
     },
     "output_type": "display_data"
    }
   ],
   "source": [
    "msno.bar(df_test)"
   ]
  },
  {
   "cell_type": "code",
   "execution_count": 50,
   "metadata": {},
   "outputs": [],
   "source": [
    "df_test['Consumer disputed?'] = np.nan"
   ]
  },
  {
   "cell_type": "code",
   "execution_count": 51,
   "metadata": {},
   "outputs": [],
   "source": [
    "#convert data type of datetime, object to datetime\n",
    "# Use Parameter infer_datetime_format and set it as True\n",
    "#Passing infer_datetime_format=True can often-times speedup a parsing if its not an ISO8601 format exactly,but in a regular format.\n",
    "for col in ['Date sent to company','Date received']:\n",
    "    df_test[col] = pd.to_datetime(df_test[col],infer_datetime_format=True)"
   ]
  },
  {
   "cell_type": "code",
   "execution_count": 52,
   "metadata": {},
   "outputs": [
    {
     "data": {
      "text/plain": [
       "Date received                        0\n",
       "Product                              0\n",
       "Sub-product                      34752\n",
       "Issue                                0\n",
       "Sub-issue                        73060\n",
       "Consumer complaint narrative    101049\n",
       "Company public response          96830\n",
       "Company                              0\n",
       "State                              925\n",
       "ZIP code                           926\n",
       "Tags                            102735\n",
       "Consumer consent provided?       85742\n",
       "Submitted via                        1\n",
       "Date sent to company                 0\n",
       "Company response to consumer         0\n",
       "Timely response?                     0\n",
       "Complaint ID                         0\n",
       "Consumer disputed?              119606\n",
       "dtype: int64"
      ]
     },
     "execution_count": 52,
     "metadata": {},
     "output_type": "execute_result"
    }
   ],
   "source": [
    "df_test.isnull().sum()"
   ]
  },
  {
   "cell_type": "code",
   "execution_count": 53,
   "metadata": {},
   "outputs": [],
   "source": [
    "#add a new col concat_both for diff. between the Date sent to company & Date received col.\n",
    "df_test['day_difffrom_Date'] = pd.to_numeric(df_test['Date sent to company'] - df_test['Date received'])"
   ]
  },
  {
   "cell_type": "code",
   "execution_count": 54,
   "metadata": {},
   "outputs": [
    {
     "data": {
      "text/html": [
       "<div>\n",
       "<style scoped>\n",
       "    .dataframe tbody tr th:only-of-type {\n",
       "        vertical-align: middle;\n",
       "    }\n",
       "\n",
       "    .dataframe tbody tr th {\n",
       "        vertical-align: top;\n",
       "    }\n",
       "\n",
       "    .dataframe thead th {\n",
       "        text-align: right;\n",
       "    }\n",
       "</style>\n",
       "<table border=\"1\" class=\"dataframe\">\n",
       "  <thead>\n",
       "    <tr style=\"text-align: right;\">\n",
       "      <th></th>\n",
       "      <th>Date received</th>\n",
       "      <th>Product</th>\n",
       "      <th>Sub-product</th>\n",
       "      <th>Issue</th>\n",
       "      <th>Sub-issue</th>\n",
       "      <th>Consumer complaint narrative</th>\n",
       "      <th>Company public response</th>\n",
       "      <th>Company</th>\n",
       "      <th>State</th>\n",
       "      <th>ZIP code</th>\n",
       "      <th>Tags</th>\n",
       "      <th>Consumer consent provided?</th>\n",
       "      <th>Submitted via</th>\n",
       "      <th>Date sent to company</th>\n",
       "      <th>Company response to consumer</th>\n",
       "      <th>Timely response?</th>\n",
       "      <th>Complaint ID</th>\n",
       "      <th>Consumer disputed?</th>\n",
       "      <th>day_difffrom_Date</th>\n",
       "    </tr>\n",
       "  </thead>\n",
       "  <tbody>\n",
       "    <tr>\n",
       "      <th>0</th>\n",
       "      <td>2014-01-18</td>\n",
       "      <td>Bank account or service</td>\n",
       "      <td>Cashing a check without an account</td>\n",
       "      <td>Deposits and withdrawals</td>\n",
       "      <td>NaN</td>\n",
       "      <td>NaN</td>\n",
       "      <td>NaN</td>\n",
       "      <td>Bank of America</td>\n",
       "      <td>CA</td>\n",
       "      <td>95691</td>\n",
       "      <td>NaN</td>\n",
       "      <td>NaN</td>\n",
       "      <td>Web</td>\n",
       "      <td>2014-01-17</td>\n",
       "      <td>Closed with explanation</td>\n",
       "      <td>Yes</td>\n",
       "      <td>675956</td>\n",
       "      <td>NaN</td>\n",
       "      <td>-86400000000000</td>\n",
       "    </tr>\n",
       "    <tr>\n",
       "      <th>1</th>\n",
       "      <td>2016-03-31</td>\n",
       "      <td>Debt collection</td>\n",
       "      <td>Credit card</td>\n",
       "      <td>Cont'd attempts collect debt not owed</td>\n",
       "      <td>Debt was paid</td>\n",
       "      <td>NaN</td>\n",
       "      <td>NaN</td>\n",
       "      <td>National Credit Adjusters, LLC</td>\n",
       "      <td>FL</td>\n",
       "      <td>32086</td>\n",
       "      <td>NaN</td>\n",
       "      <td>Consent not provided</td>\n",
       "      <td>Web</td>\n",
       "      <td>2016-03-31</td>\n",
       "      <td>Closed with explanation</td>\n",
       "      <td>Yes</td>\n",
       "      <td>1858795</td>\n",
       "      <td>NaN</td>\n",
       "      <td>0</td>\n",
       "    </tr>\n",
       "    <tr>\n",
       "      <th>2</th>\n",
       "      <td>2012-03-08</td>\n",
       "      <td>Mortgage</td>\n",
       "      <td>Conventional adjustable mortgage (ARM)</td>\n",
       "      <td>Loan servicing, payments, escrow account</td>\n",
       "      <td>NaN</td>\n",
       "      <td>NaN</td>\n",
       "      <td>NaN</td>\n",
       "      <td>Wells Fargo &amp; Company</td>\n",
       "      <td>CA</td>\n",
       "      <td>94618</td>\n",
       "      <td>NaN</td>\n",
       "      <td>NaN</td>\n",
       "      <td>Web</td>\n",
       "      <td>2012-03-09</td>\n",
       "      <td>Closed without relief</td>\n",
       "      <td>Yes</td>\n",
       "      <td>32637</td>\n",
       "      <td>NaN</td>\n",
       "      <td>86400000000000</td>\n",
       "    </tr>\n",
       "    <tr>\n",
       "      <th>3</th>\n",
       "      <td>2016-01-07</td>\n",
       "      <td>Credit reporting</td>\n",
       "      <td>NaN</td>\n",
       "      <td>Unable to get credit report/credit score</td>\n",
       "      <td>Problem getting report or credit score</td>\n",
       "      <td>NaN</td>\n",
       "      <td>Company chooses not to provide a public response</td>\n",
       "      <td>TransUnion Intermediate Holdings, Inc.</td>\n",
       "      <td>FL</td>\n",
       "      <td>33584</td>\n",
       "      <td>Older American</td>\n",
       "      <td>NaN</td>\n",
       "      <td>Postal mail</td>\n",
       "      <td>2016-01-12</td>\n",
       "      <td>Closed with non-monetary relief</td>\n",
       "      <td>Yes</td>\n",
       "      <td>1731374</td>\n",
       "      <td>NaN</td>\n",
       "      <td>432000000000000</td>\n",
       "    </tr>\n",
       "    <tr>\n",
       "      <th>4</th>\n",
       "      <td>2013-08-23</td>\n",
       "      <td>Mortgage</td>\n",
       "      <td>FHA mortgage</td>\n",
       "      <td>Loan modification,collection,foreclosure</td>\n",
       "      <td>NaN</td>\n",
       "      <td>NaN</td>\n",
       "      <td>NaN</td>\n",
       "      <td>Bank of America</td>\n",
       "      <td>FL</td>\n",
       "      <td>33543</td>\n",
       "      <td>NaN</td>\n",
       "      <td>NaN</td>\n",
       "      <td>Web</td>\n",
       "      <td>2013-08-23</td>\n",
       "      <td>Closed with explanation</td>\n",
       "      <td>Yes</td>\n",
       "      <td>501487</td>\n",
       "      <td>NaN</td>\n",
       "      <td>0</td>\n",
       "    </tr>\n",
       "  </tbody>\n",
       "</table>\n",
       "</div>"
      ],
      "text/plain": [
       "  Date received                  Product  \\\n",
       "0    2014-01-18  Bank account or service   \n",
       "1    2016-03-31          Debt collection   \n",
       "2    2012-03-08                 Mortgage   \n",
       "3    2016-01-07         Credit reporting   \n",
       "4    2013-08-23                 Mortgage   \n",
       "\n",
       "                              Sub-product  \\\n",
       "0      Cashing a check without an account   \n",
       "1                             Credit card   \n",
       "2  Conventional adjustable mortgage (ARM)   \n",
       "3                                     NaN   \n",
       "4                            FHA mortgage   \n",
       "\n",
       "                                      Issue  \\\n",
       "0                  Deposits and withdrawals   \n",
       "1     Cont'd attempts collect debt not owed   \n",
       "2  Loan servicing, payments, escrow account   \n",
       "3  Unable to get credit report/credit score   \n",
       "4  Loan modification,collection,foreclosure   \n",
       "\n",
       "                                Sub-issue Consumer complaint narrative  \\\n",
       "0                                     NaN                          NaN   \n",
       "1                           Debt was paid                          NaN   \n",
       "2                                     NaN                          NaN   \n",
       "3  Problem getting report or credit score                          NaN   \n",
       "4                                     NaN                          NaN   \n",
       "\n",
       "                            Company public response  \\\n",
       "0                                               NaN   \n",
       "1                                               NaN   \n",
       "2                                               NaN   \n",
       "3  Company chooses not to provide a public response   \n",
       "4                                               NaN   \n",
       "\n",
       "                                  Company State ZIP code            Tags  \\\n",
       "0                         Bank of America    CA    95691             NaN   \n",
       "1          National Credit Adjusters, LLC    FL    32086             NaN   \n",
       "2                   Wells Fargo & Company    CA    94618             NaN   \n",
       "3  TransUnion Intermediate Holdings, Inc.    FL    33584  Older American   \n",
       "4                         Bank of America    FL    33543             NaN   \n",
       "\n",
       "  Consumer consent provided? Submitted via Date sent to company  \\\n",
       "0                        NaN           Web           2014-01-17   \n",
       "1       Consent not provided           Web           2016-03-31   \n",
       "2                        NaN           Web           2012-03-09   \n",
       "3                        NaN   Postal mail           2016-01-12   \n",
       "4                        NaN           Web           2013-08-23   \n",
       "\n",
       "      Company response to consumer Timely response?  Complaint ID  \\\n",
       "0          Closed with explanation              Yes        675956   \n",
       "1          Closed with explanation              Yes       1858795   \n",
       "2            Closed without relief              Yes         32637   \n",
       "3  Closed with non-monetary relief              Yes       1731374   \n",
       "4          Closed with explanation              Yes        501487   \n",
       "\n",
       "   Consumer disputed?  day_difffrom_Date  \n",
       "0                 NaN    -86400000000000  \n",
       "1                 NaN                  0  \n",
       "2                 NaN     86400000000000  \n",
       "3                 NaN    432000000000000  \n",
       "4                 NaN                  0  "
      ]
     },
     "execution_count": 54,
     "metadata": {},
     "output_type": "execute_result"
    }
   ],
   "source": [
    "df_test.head()"
   ]
  },
  {
   "cell_type": "code",
   "execution_count": 55,
   "metadata": {},
   "outputs": [],
   "source": [
    "#drop the Date sent to company & Date received col\n",
    "for col in ['Date sent to company','Date received']:\n",
    "    df_test.drop([col],axis=1,inplace=True)"
   ]
  },
  {
   "cell_type": "code",
   "execution_count": 56,
   "metadata": {},
   "outputs": [
    {
     "data": {
      "text/html": [
       "<div>\n",
       "<style scoped>\n",
       "    .dataframe tbody tr th:only-of-type {\n",
       "        vertical-align: middle;\n",
       "    }\n",
       "\n",
       "    .dataframe tbody tr th {\n",
       "        vertical-align: top;\n",
       "    }\n",
       "\n",
       "    .dataframe thead th {\n",
       "        text-align: right;\n",
       "    }\n",
       "</style>\n",
       "<table border=\"1\" class=\"dataframe\">\n",
       "  <thead>\n",
       "    <tr style=\"text-align: right;\">\n",
       "      <th></th>\n",
       "      <th>Product</th>\n",
       "      <th>Sub-product</th>\n",
       "      <th>Issue</th>\n",
       "      <th>Sub-issue</th>\n",
       "      <th>Consumer complaint narrative</th>\n",
       "      <th>Company public response</th>\n",
       "      <th>Company</th>\n",
       "      <th>State</th>\n",
       "      <th>ZIP code</th>\n",
       "      <th>Tags</th>\n",
       "      <th>Consumer consent provided?</th>\n",
       "      <th>Submitted via</th>\n",
       "      <th>Company response to consumer</th>\n",
       "      <th>Timely response?</th>\n",
       "      <th>Complaint ID</th>\n",
       "      <th>Consumer disputed?</th>\n",
       "      <th>day_difffrom_Date</th>\n",
       "    </tr>\n",
       "  </thead>\n",
       "  <tbody>\n",
       "    <tr>\n",
       "      <th>0</th>\n",
       "      <td>Bank account or service</td>\n",
       "      <td>Cashing a check without an account</td>\n",
       "      <td>Deposits and withdrawals</td>\n",
       "      <td>NaN</td>\n",
       "      <td>NaN</td>\n",
       "      <td>NaN</td>\n",
       "      <td>Bank of America</td>\n",
       "      <td>CA</td>\n",
       "      <td>95691</td>\n",
       "      <td>NaN</td>\n",
       "      <td>NaN</td>\n",
       "      <td>Web</td>\n",
       "      <td>Closed with explanation</td>\n",
       "      <td>Yes</td>\n",
       "      <td>675956</td>\n",
       "      <td>NaN</td>\n",
       "      <td>-86400000000000</td>\n",
       "    </tr>\n",
       "    <tr>\n",
       "      <th>1</th>\n",
       "      <td>Debt collection</td>\n",
       "      <td>Credit card</td>\n",
       "      <td>Cont'd attempts collect debt not owed</td>\n",
       "      <td>Debt was paid</td>\n",
       "      <td>NaN</td>\n",
       "      <td>NaN</td>\n",
       "      <td>National Credit Adjusters, LLC</td>\n",
       "      <td>FL</td>\n",
       "      <td>32086</td>\n",
       "      <td>NaN</td>\n",
       "      <td>Consent not provided</td>\n",
       "      <td>Web</td>\n",
       "      <td>Closed with explanation</td>\n",
       "      <td>Yes</td>\n",
       "      <td>1858795</td>\n",
       "      <td>NaN</td>\n",
       "      <td>0</td>\n",
       "    </tr>\n",
       "    <tr>\n",
       "      <th>2</th>\n",
       "      <td>Mortgage</td>\n",
       "      <td>Conventional adjustable mortgage (ARM)</td>\n",
       "      <td>Loan servicing, payments, escrow account</td>\n",
       "      <td>NaN</td>\n",
       "      <td>NaN</td>\n",
       "      <td>NaN</td>\n",
       "      <td>Wells Fargo &amp; Company</td>\n",
       "      <td>CA</td>\n",
       "      <td>94618</td>\n",
       "      <td>NaN</td>\n",
       "      <td>NaN</td>\n",
       "      <td>Web</td>\n",
       "      <td>Closed without relief</td>\n",
       "      <td>Yes</td>\n",
       "      <td>32637</td>\n",
       "      <td>NaN</td>\n",
       "      <td>86400000000000</td>\n",
       "    </tr>\n",
       "    <tr>\n",
       "      <th>3</th>\n",
       "      <td>Credit reporting</td>\n",
       "      <td>NaN</td>\n",
       "      <td>Unable to get credit report/credit score</td>\n",
       "      <td>Problem getting report or credit score</td>\n",
       "      <td>NaN</td>\n",
       "      <td>Company chooses not to provide a public response</td>\n",
       "      <td>TransUnion Intermediate Holdings, Inc.</td>\n",
       "      <td>FL</td>\n",
       "      <td>33584</td>\n",
       "      <td>Older American</td>\n",
       "      <td>NaN</td>\n",
       "      <td>Postal mail</td>\n",
       "      <td>Closed with non-monetary relief</td>\n",
       "      <td>Yes</td>\n",
       "      <td>1731374</td>\n",
       "      <td>NaN</td>\n",
       "      <td>432000000000000</td>\n",
       "    </tr>\n",
       "    <tr>\n",
       "      <th>4</th>\n",
       "      <td>Mortgage</td>\n",
       "      <td>FHA mortgage</td>\n",
       "      <td>Loan modification,collection,foreclosure</td>\n",
       "      <td>NaN</td>\n",
       "      <td>NaN</td>\n",
       "      <td>NaN</td>\n",
       "      <td>Bank of America</td>\n",
       "      <td>FL</td>\n",
       "      <td>33543</td>\n",
       "      <td>NaN</td>\n",
       "      <td>NaN</td>\n",
       "      <td>Web</td>\n",
       "      <td>Closed with explanation</td>\n",
       "      <td>Yes</td>\n",
       "      <td>501487</td>\n",
       "      <td>NaN</td>\n",
       "      <td>0</td>\n",
       "    </tr>\n",
       "  </tbody>\n",
       "</table>\n",
       "</div>"
      ],
      "text/plain": [
       "                   Product                             Sub-product  \\\n",
       "0  Bank account or service      Cashing a check without an account   \n",
       "1          Debt collection                             Credit card   \n",
       "2                 Mortgage  Conventional adjustable mortgage (ARM)   \n",
       "3         Credit reporting                                     NaN   \n",
       "4                 Mortgage                            FHA mortgage   \n",
       "\n",
       "                                      Issue  \\\n",
       "0                  Deposits and withdrawals   \n",
       "1     Cont'd attempts collect debt not owed   \n",
       "2  Loan servicing, payments, escrow account   \n",
       "3  Unable to get credit report/credit score   \n",
       "4  Loan modification,collection,foreclosure   \n",
       "\n",
       "                                Sub-issue Consumer complaint narrative  \\\n",
       "0                                     NaN                          NaN   \n",
       "1                           Debt was paid                          NaN   \n",
       "2                                     NaN                          NaN   \n",
       "3  Problem getting report or credit score                          NaN   \n",
       "4                                     NaN                          NaN   \n",
       "\n",
       "                            Company public response  \\\n",
       "0                                               NaN   \n",
       "1                                               NaN   \n",
       "2                                               NaN   \n",
       "3  Company chooses not to provide a public response   \n",
       "4                                               NaN   \n",
       "\n",
       "                                  Company State ZIP code            Tags  \\\n",
       "0                         Bank of America    CA    95691             NaN   \n",
       "1          National Credit Adjusters, LLC    FL    32086             NaN   \n",
       "2                   Wells Fargo & Company    CA    94618             NaN   \n",
       "3  TransUnion Intermediate Holdings, Inc.    FL    33584  Older American   \n",
       "4                         Bank of America    FL    33543             NaN   \n",
       "\n",
       "  Consumer consent provided? Submitted via     Company response to consumer  \\\n",
       "0                        NaN           Web          Closed with explanation   \n",
       "1       Consent not provided           Web          Closed with explanation   \n",
       "2                        NaN           Web            Closed without relief   \n",
       "3                        NaN   Postal mail  Closed with non-monetary relief   \n",
       "4                        NaN           Web          Closed with explanation   \n",
       "\n",
       "  Timely response?  Complaint ID  Consumer disputed?  day_difffrom_Date  \n",
       "0              Yes        675956                 NaN    -86400000000000  \n",
       "1              Yes       1858795                 NaN                  0  \n",
       "2              Yes         32637                 NaN     86400000000000  \n",
       "3              Yes       1731374                 NaN    432000000000000  \n",
       "4              Yes        501487                 NaN                  0  "
      ]
     },
     "execution_count": 56,
     "metadata": {},
     "output_type": "execute_result"
    }
   ],
   "source": [
    "df_test.head()"
   ]
  },
  {
   "cell_type": "code",
   "execution_count": 57,
   "metadata": {},
   "outputs": [
    {
     "data": {
      "text/plain": [
       "Product                          object\n",
       "Sub-product                      object\n",
       "Issue                            object\n",
       "Sub-issue                        object\n",
       "Consumer complaint narrative     object\n",
       "Company public response          object\n",
       "Company                          object\n",
       "State                            object\n",
       "ZIP code                         object\n",
       "Tags                             object\n",
       "Consumer consent provided?       object\n",
       "Submitted via                    object\n",
       "Company response to consumer     object\n",
       "Timely response?                 object\n",
       "Complaint ID                      int64\n",
       "Consumer disputed?              float64\n",
       "day_difffrom_Date                 int64\n",
       "dtype: object"
      ]
     },
     "execution_count": 57,
     "metadata": {},
     "output_type": "execute_result"
    }
   ],
   "source": [
    "df_test.dtypes"
   ]
  },
  {
   "cell_type": "code",
   "execution_count": 58,
   "metadata": {},
   "outputs": [],
   "source": [
    "for col in ['Company public response','Consumer complaint narrative',\n",
    "            'Consumer consent provided?','Sub-issue',\"Sub-product\",'Tags']:\n",
    "    replace_name = col.replace(' ','_').replace('?','_').replace('-','_') + '_isNaN'  #replace the \" \"and \"?\" and \"-\" with \"_\"\n",
    "    df_test[replace_name] = np.where(pd.isnull(df_test[col]),1,0)\n",
    "    del df_test[col] "
   ]
  },
  {
   "cell_type": "code",
   "execution_count": 59,
   "metadata": {},
   "outputs": [
    {
     "data": {
      "text/html": [
       "<div>\n",
       "<style scoped>\n",
       "    .dataframe tbody tr th:only-of-type {\n",
       "        vertical-align: middle;\n",
       "    }\n",
       "\n",
       "    .dataframe tbody tr th {\n",
       "        vertical-align: top;\n",
       "    }\n",
       "\n",
       "    .dataframe thead th {\n",
       "        text-align: right;\n",
       "    }\n",
       "</style>\n",
       "<table border=\"1\" class=\"dataframe\">\n",
       "  <thead>\n",
       "    <tr style=\"text-align: right;\">\n",
       "      <th></th>\n",
       "      <th>Product</th>\n",
       "      <th>Issue</th>\n",
       "      <th>Company</th>\n",
       "      <th>State</th>\n",
       "      <th>ZIP code</th>\n",
       "      <th>Submitted via</th>\n",
       "      <th>Company response to consumer</th>\n",
       "      <th>Timely response?</th>\n",
       "      <th>Complaint ID</th>\n",
       "      <th>Consumer disputed?</th>\n",
       "      <th>day_difffrom_Date</th>\n",
       "      <th>Company_public_response_isNaN</th>\n",
       "      <th>Consumer_complaint_narrative_isNaN</th>\n",
       "      <th>Consumer_consent_provided__isNaN</th>\n",
       "      <th>Sub_issue_isNaN</th>\n",
       "      <th>Sub_product_isNaN</th>\n",
       "      <th>Tags_isNaN</th>\n",
       "    </tr>\n",
       "  </thead>\n",
       "  <tbody>\n",
       "    <tr>\n",
       "      <th>0</th>\n",
       "      <td>Bank account or service</td>\n",
       "      <td>Deposits and withdrawals</td>\n",
       "      <td>Bank of America</td>\n",
       "      <td>CA</td>\n",
       "      <td>95691</td>\n",
       "      <td>Web</td>\n",
       "      <td>Closed with explanation</td>\n",
       "      <td>Yes</td>\n",
       "      <td>675956</td>\n",
       "      <td>NaN</td>\n",
       "      <td>-86400000000000</td>\n",
       "      <td>1</td>\n",
       "      <td>1</td>\n",
       "      <td>1</td>\n",
       "      <td>1</td>\n",
       "      <td>0</td>\n",
       "      <td>1</td>\n",
       "    </tr>\n",
       "    <tr>\n",
       "      <th>1</th>\n",
       "      <td>Debt collection</td>\n",
       "      <td>Cont'd attempts collect debt not owed</td>\n",
       "      <td>National Credit Adjusters, LLC</td>\n",
       "      <td>FL</td>\n",
       "      <td>32086</td>\n",
       "      <td>Web</td>\n",
       "      <td>Closed with explanation</td>\n",
       "      <td>Yes</td>\n",
       "      <td>1858795</td>\n",
       "      <td>NaN</td>\n",
       "      <td>0</td>\n",
       "      <td>1</td>\n",
       "      <td>1</td>\n",
       "      <td>0</td>\n",
       "      <td>0</td>\n",
       "      <td>0</td>\n",
       "      <td>1</td>\n",
       "    </tr>\n",
       "    <tr>\n",
       "      <th>2</th>\n",
       "      <td>Mortgage</td>\n",
       "      <td>Loan servicing, payments, escrow account</td>\n",
       "      <td>Wells Fargo &amp; Company</td>\n",
       "      <td>CA</td>\n",
       "      <td>94618</td>\n",
       "      <td>Web</td>\n",
       "      <td>Closed without relief</td>\n",
       "      <td>Yes</td>\n",
       "      <td>32637</td>\n",
       "      <td>NaN</td>\n",
       "      <td>86400000000000</td>\n",
       "      <td>1</td>\n",
       "      <td>1</td>\n",
       "      <td>1</td>\n",
       "      <td>1</td>\n",
       "      <td>0</td>\n",
       "      <td>1</td>\n",
       "    </tr>\n",
       "    <tr>\n",
       "      <th>3</th>\n",
       "      <td>Credit reporting</td>\n",
       "      <td>Unable to get credit report/credit score</td>\n",
       "      <td>TransUnion Intermediate Holdings, Inc.</td>\n",
       "      <td>FL</td>\n",
       "      <td>33584</td>\n",
       "      <td>Postal mail</td>\n",
       "      <td>Closed with non-monetary relief</td>\n",
       "      <td>Yes</td>\n",
       "      <td>1731374</td>\n",
       "      <td>NaN</td>\n",
       "      <td>432000000000000</td>\n",
       "      <td>0</td>\n",
       "      <td>1</td>\n",
       "      <td>1</td>\n",
       "      <td>0</td>\n",
       "      <td>1</td>\n",
       "      <td>0</td>\n",
       "    </tr>\n",
       "    <tr>\n",
       "      <th>4</th>\n",
       "      <td>Mortgage</td>\n",
       "      <td>Loan modification,collection,foreclosure</td>\n",
       "      <td>Bank of America</td>\n",
       "      <td>FL</td>\n",
       "      <td>33543</td>\n",
       "      <td>Web</td>\n",
       "      <td>Closed with explanation</td>\n",
       "      <td>Yes</td>\n",
       "      <td>501487</td>\n",
       "      <td>NaN</td>\n",
       "      <td>0</td>\n",
       "      <td>1</td>\n",
       "      <td>1</td>\n",
       "      <td>1</td>\n",
       "      <td>1</td>\n",
       "      <td>0</td>\n",
       "      <td>1</td>\n",
       "    </tr>\n",
       "  </tbody>\n",
       "</table>\n",
       "</div>"
      ],
      "text/plain": [
       "                   Product                                     Issue  \\\n",
       "0  Bank account or service                  Deposits and withdrawals   \n",
       "1          Debt collection     Cont'd attempts collect debt not owed   \n",
       "2                 Mortgage  Loan servicing, payments, escrow account   \n",
       "3         Credit reporting  Unable to get credit report/credit score   \n",
       "4                 Mortgage  Loan modification,collection,foreclosure   \n",
       "\n",
       "                                  Company State ZIP code Submitted via  \\\n",
       "0                         Bank of America    CA    95691           Web   \n",
       "1          National Credit Adjusters, LLC    FL    32086           Web   \n",
       "2                   Wells Fargo & Company    CA    94618           Web   \n",
       "3  TransUnion Intermediate Holdings, Inc.    FL    33584   Postal mail   \n",
       "4                         Bank of America    FL    33543           Web   \n",
       "\n",
       "      Company response to consumer Timely response?  Complaint ID  \\\n",
       "0          Closed with explanation              Yes        675956   \n",
       "1          Closed with explanation              Yes       1858795   \n",
       "2            Closed without relief              Yes         32637   \n",
       "3  Closed with non-monetary relief              Yes       1731374   \n",
       "4          Closed with explanation              Yes        501487   \n",
       "\n",
       "   Consumer disputed?  day_difffrom_Date  Company_public_response_isNaN  \\\n",
       "0                 NaN    -86400000000000                              1   \n",
       "1                 NaN                  0                              1   \n",
       "2                 NaN     86400000000000                              1   \n",
       "3                 NaN    432000000000000                              0   \n",
       "4                 NaN                  0                              1   \n",
       "\n",
       "   Consumer_complaint_narrative_isNaN  Consumer_consent_provided__isNaN  \\\n",
       "0                                   1                                 1   \n",
       "1                                   1                                 0   \n",
       "2                                   1                                 1   \n",
       "3                                   1                                 1   \n",
       "4                                   1                                 1   \n",
       "\n",
       "   Sub_issue_isNaN  Sub_product_isNaN  Tags_isNaN  \n",
       "0                1                  0           1  \n",
       "1                0                  0           1  \n",
       "2                1                  0           1  \n",
       "3                0                  1           0  \n",
       "4                1                  0           1  "
      ]
     },
     "execution_count": 59,
     "metadata": {},
     "output_type": "execute_result"
    }
   ],
   "source": [
    "df_test.head()"
   ]
  },
  {
   "cell_type": "code",
   "execution_count": 60,
   "metadata": {},
   "outputs": [
    {
     "name": "stdout",
     "output_type": "stream",
     "text": [
      "Product : 12\n",
      "Issue : 94\n",
      "Company : 2237\n",
      "State : 62\n",
      "ZIP code : 17784\n",
      "Submitted via : 6\n",
      "Company response to consumer : 7\n",
      "Timely response? : 2\n"
     ]
    }
   ],
   "source": [
    "#print object col & how many unique value\n",
    "for col in df_test.select_dtypes(['object']).columns:\n",
    "    print(col,\":\",df_test[col].nunique())"
   ]
  },
  {
   "cell_type": "code",
   "execution_count": 61,
   "metadata": {},
   "outputs": [],
   "source": [
    "#Drop ZIP code,Company col lot's of null value is present in the col\n",
    "for col in ['ZIP code','Company']:\n",
    "    df_test.drop([col],axis=1,inplace=True)"
   ]
  },
  {
   "cell_type": "code",
   "execution_count": 62,
   "metadata": {},
   "outputs": [],
   "source": [
    "#where(): Process elements depending on conditions with 0 and 1\n",
    "df_test['Consumer disputed?'] = np.where(df_test['Consumer disputed?']=='Yes',1,0)  "
   ]
  },
  {
   "cell_type": "code",
   "execution_count": 63,
   "metadata": {},
   "outputs": [],
   "source": [
    "ise = df_test['Issue'].value_counts()\n",
    "for val in ise.axes[0][0:10]:  #rearranging the data\n",
    "    replace_name = 'Issue_'+val.replace(',','_').replace(' ','_') #replace \",\" and \" \" with \"_\"\n",
    "    df_test[replace_name] = np.where(df_test['Issue']==val,1,0) #apply where cond and convert 1,0\n",
    "\n",
    "del df_test['Issue']  #delete issue objects in Python"
   ]
  },
  {
   "cell_type": "code",
   "execution_count": 64,
   "metadata": {},
   "outputs": [],
   "source": [
    "ise = df_test['State'].value_counts()\n",
    "for val in ise.axes[0][0:10]: #rearranging the data\n",
    "    replace_name = 'State_'+val.replace(',','_').replace(' ','_')  #replace \",\" and \" \" with \"_\"\n",
    "    df_test[replace_name] = np.where(df_test['State']==val,1,0) #apply where cond and convert 1,0\n",
    "\n",
    "del df_test['State'] #delete State objects in Python"
   ]
  },
  {
   "cell_type": "code",
   "execution_count": 65,
   "metadata": {},
   "outputs": [],
   "source": [
    "for col in ['Product','Submitted via','Company response to consumer','Timely response?']:\n",
    "    \n",
    "    temp = pd.get_dummies(df_test[col],prefix=col,drop_first=True)  #use one hot encoding\n",
    "    df_test = pd.concat([temp,df_test],1)\n",
    "    df_test.drop([col],1,inplace=True)"
   ]
  },
  {
   "cell_type": "code",
   "execution_count": 66,
   "metadata": {},
   "outputs": [
    {
     "data": {
      "text/html": [
       "<div>\n",
       "<style scoped>\n",
       "    .dataframe tbody tr th:only-of-type {\n",
       "        vertical-align: middle;\n",
       "    }\n",
       "\n",
       "    .dataframe tbody tr th {\n",
       "        vertical-align: top;\n",
       "    }\n",
       "\n",
       "    .dataframe thead th {\n",
       "        text-align: right;\n",
       "    }\n",
       "</style>\n",
       "<table border=\"1\" class=\"dataframe\">\n",
       "  <thead>\n",
       "    <tr style=\"text-align: right;\">\n",
       "      <th></th>\n",
       "      <th>Timely response?_Yes</th>\n",
       "      <th>Company response to consumer_Closed with explanation</th>\n",
       "      <th>Company response to consumer_Closed with monetary relief</th>\n",
       "      <th>Company response to consumer_Closed with non-monetary relief</th>\n",
       "      <th>Company response to consumer_Closed with relief</th>\n",
       "      <th>Company response to consumer_Closed without relief</th>\n",
       "      <th>Company response to consumer_Untimely response</th>\n",
       "      <th>Submitted via_Fax</th>\n",
       "      <th>Submitted via_Phone</th>\n",
       "      <th>Submitted via_Postal mail</th>\n",
       "      <th>...</th>\n",
       "      <th>State_CA</th>\n",
       "      <th>State_FL</th>\n",
       "      <th>State_TX</th>\n",
       "      <th>State_NY</th>\n",
       "      <th>State_GA</th>\n",
       "      <th>State_NJ</th>\n",
       "      <th>State_PA</th>\n",
       "      <th>State_IL</th>\n",
       "      <th>State_VA</th>\n",
       "      <th>State_OH</th>\n",
       "    </tr>\n",
       "  </thead>\n",
       "  <tbody>\n",
       "    <tr>\n",
       "      <th>0</th>\n",
       "      <td>1</td>\n",
       "      <td>1</td>\n",
       "      <td>0</td>\n",
       "      <td>0</td>\n",
       "      <td>0</td>\n",
       "      <td>0</td>\n",
       "      <td>0</td>\n",
       "      <td>0</td>\n",
       "      <td>0</td>\n",
       "      <td>0</td>\n",
       "      <td>...</td>\n",
       "      <td>1</td>\n",
       "      <td>0</td>\n",
       "      <td>0</td>\n",
       "      <td>0</td>\n",
       "      <td>0</td>\n",
       "      <td>0</td>\n",
       "      <td>0</td>\n",
       "      <td>0</td>\n",
       "      <td>0</td>\n",
       "      <td>0</td>\n",
       "    </tr>\n",
       "    <tr>\n",
       "      <th>1</th>\n",
       "      <td>1</td>\n",
       "      <td>1</td>\n",
       "      <td>0</td>\n",
       "      <td>0</td>\n",
       "      <td>0</td>\n",
       "      <td>0</td>\n",
       "      <td>0</td>\n",
       "      <td>0</td>\n",
       "      <td>0</td>\n",
       "      <td>0</td>\n",
       "      <td>...</td>\n",
       "      <td>0</td>\n",
       "      <td>1</td>\n",
       "      <td>0</td>\n",
       "      <td>0</td>\n",
       "      <td>0</td>\n",
       "      <td>0</td>\n",
       "      <td>0</td>\n",
       "      <td>0</td>\n",
       "      <td>0</td>\n",
       "      <td>0</td>\n",
       "    </tr>\n",
       "    <tr>\n",
       "      <th>2</th>\n",
       "      <td>1</td>\n",
       "      <td>0</td>\n",
       "      <td>0</td>\n",
       "      <td>0</td>\n",
       "      <td>0</td>\n",
       "      <td>1</td>\n",
       "      <td>0</td>\n",
       "      <td>0</td>\n",
       "      <td>0</td>\n",
       "      <td>0</td>\n",
       "      <td>...</td>\n",
       "      <td>1</td>\n",
       "      <td>0</td>\n",
       "      <td>0</td>\n",
       "      <td>0</td>\n",
       "      <td>0</td>\n",
       "      <td>0</td>\n",
       "      <td>0</td>\n",
       "      <td>0</td>\n",
       "      <td>0</td>\n",
       "      <td>0</td>\n",
       "    </tr>\n",
       "    <tr>\n",
       "      <th>3</th>\n",
       "      <td>1</td>\n",
       "      <td>0</td>\n",
       "      <td>0</td>\n",
       "      <td>1</td>\n",
       "      <td>0</td>\n",
       "      <td>0</td>\n",
       "      <td>0</td>\n",
       "      <td>0</td>\n",
       "      <td>0</td>\n",
       "      <td>1</td>\n",
       "      <td>...</td>\n",
       "      <td>0</td>\n",
       "      <td>1</td>\n",
       "      <td>0</td>\n",
       "      <td>0</td>\n",
       "      <td>0</td>\n",
       "      <td>0</td>\n",
       "      <td>0</td>\n",
       "      <td>0</td>\n",
       "      <td>0</td>\n",
       "      <td>0</td>\n",
       "    </tr>\n",
       "    <tr>\n",
       "      <th>4</th>\n",
       "      <td>1</td>\n",
       "      <td>1</td>\n",
       "      <td>0</td>\n",
       "      <td>0</td>\n",
       "      <td>0</td>\n",
       "      <td>0</td>\n",
       "      <td>0</td>\n",
       "      <td>0</td>\n",
       "      <td>0</td>\n",
       "      <td>0</td>\n",
       "      <td>...</td>\n",
       "      <td>0</td>\n",
       "      <td>1</td>\n",
       "      <td>0</td>\n",
       "      <td>0</td>\n",
       "      <td>0</td>\n",
       "      <td>0</td>\n",
       "      <td>0</td>\n",
       "      <td>0</td>\n",
       "      <td>0</td>\n",
       "      <td>0</td>\n",
       "    </tr>\n",
       "  </tbody>\n",
       "</table>\n",
       "<p>5 rows × 52 columns</p>\n",
       "</div>"
      ],
      "text/plain": [
       "   Timely response?_Yes  Company response to consumer_Closed with explanation  \\\n",
       "0                     1                                                  1      \n",
       "1                     1                                                  1      \n",
       "2                     1                                                  0      \n",
       "3                     1                                                  0      \n",
       "4                     1                                                  1      \n",
       "\n",
       "   Company response to consumer_Closed with monetary relief  \\\n",
       "0                                                  0          \n",
       "1                                                  0          \n",
       "2                                                  0          \n",
       "3                                                  0          \n",
       "4                                                  0          \n",
       "\n",
       "   Company response to consumer_Closed with non-monetary relief  \\\n",
       "0                                                  0              \n",
       "1                                                  0              \n",
       "2                                                  0              \n",
       "3                                                  1              \n",
       "4                                                  0              \n",
       "\n",
       "   Company response to consumer_Closed with relief  \\\n",
       "0                                                0   \n",
       "1                                                0   \n",
       "2                                                0   \n",
       "3                                                0   \n",
       "4                                                0   \n",
       "\n",
       "   Company response to consumer_Closed without relief  \\\n",
       "0                                                  0    \n",
       "1                                                  0    \n",
       "2                                                  1    \n",
       "3                                                  0    \n",
       "4                                                  0    \n",
       "\n",
       "   Company response to consumer_Untimely response  Submitted via_Fax  \\\n",
       "0                                               0                  0   \n",
       "1                                               0                  0   \n",
       "2                                               0                  0   \n",
       "3                                               0                  0   \n",
       "4                                               0                  0   \n",
       "\n",
       "   Submitted via_Phone  Submitted via_Postal mail  ...  State_CA  State_FL  \\\n",
       "0                    0                          0  ...         1         0   \n",
       "1                    0                          0  ...         0         1   \n",
       "2                    0                          0  ...         1         0   \n",
       "3                    0                          1  ...         0         1   \n",
       "4                    0                          0  ...         0         1   \n",
       "\n",
       "   State_TX  State_NY  State_GA  State_NJ  State_PA  State_IL  State_VA  \\\n",
       "0         0         0         0         0         0         0         0   \n",
       "1         0         0         0         0         0         0         0   \n",
       "2         0         0         0         0         0         0         0   \n",
       "3         0         0         0         0         0         0         0   \n",
       "4         0         0         0         0         0         0         0   \n",
       "\n",
       "   State_OH  \n",
       "0         0  \n",
       "1         0  \n",
       "2         0  \n",
       "3         0  \n",
       "4         0  \n",
       "\n",
       "[5 rows x 52 columns]"
      ]
     },
     "execution_count": 66,
     "metadata": {},
     "output_type": "execute_result"
    }
   ],
   "source": [
    "df_test.head()"
   ]
  },
  {
   "cell_type": "code",
   "execution_count": 67,
   "metadata": {},
   "outputs": [
    {
     "data": {
      "text/plain": [
       "0    119606\n",
       "Name: Consumer disputed?, dtype: int64"
      ]
     },
     "execution_count": 67,
     "metadata": {},
     "output_type": "execute_result"
    }
   ],
   "source": [
    "p=df_test['Consumer disputed?'].value_counts()   #Return a Series containing counts of unique values \n",
    "p"
   ]
  },
  {
   "cell_type": "code",
   "execution_count": 68,
   "metadata": {},
   "outputs": [
    {
     "data": {
      "text/plain": [
       "119606.0"
      ]
     },
     "execution_count": 68,
     "metadata": {},
     "output_type": "execute_result"
    }
   ],
   "source": [
    "perc=np.percentile(p,50)  #return the 40th percentile\n",
    "perc"
   ]
  },
  {
   "cell_type": "code",
   "execution_count": 69,
   "metadata": {},
   "outputs": [
    {
     "data": {
      "text/plain": [
       "Timely response?_Yes                                            0\n",
       "Company response to consumer_Closed with explanation            0\n",
       "Company response to consumer_Closed with monetary relief        0\n",
       "Company response to consumer_Closed with non-monetary relief    0\n",
       "Company response to consumer_Closed with relief                 0\n",
       "Company response to consumer_Closed without relief              0\n",
       "Company response to consumer_Untimely response                  0\n",
       "Submitted via_Fax                                               0\n",
       "Submitted via_Phone                                             0\n",
       "Submitted via_Postal mail                                       0\n",
       "Submitted via_Referral                                          0\n",
       "Submitted via_Web                                               0\n",
       "Product_Consumer Loan                                           0\n",
       "Product_Credit card                                             0\n",
       "Product_Credit reporting                                        0\n",
       "Product_Debt collection                                         0\n",
       "Product_Money transfers                                         0\n",
       "Product_Mortgage                                                0\n",
       "Product_Other financial service                                 0\n",
       "Product_Payday loan                                             0\n",
       "Product_Prepaid card                                            0\n",
       "Product_Student loan                                            0\n",
       "Product_Virtual currency                                        0\n",
       "Complaint ID                                                    0\n",
       "Consumer disputed?                                              0\n",
       "day_difffrom_Date                                               0\n",
       "Company_public_response_isNaN                                   0\n",
       "Consumer_complaint_narrative_isNaN                              0\n",
       "Consumer_consent_provided__isNaN                                0\n",
       "Sub_issue_isNaN                                                 0\n",
       "Sub_product_isNaN                                               0\n",
       "Tags_isNaN                                                      0\n",
       "Issue_Loan_modification_collection_foreclosure                  0\n",
       "Issue_Incorrect_information_on_credit_report                    0\n",
       "Issue_Loan_servicing__payments__escrow_account                  0\n",
       "Issue_Cont'd_attempts_collect_debt_not_owed                     0\n",
       "Issue_Account_opening__closing__or_management                   0\n",
       "Issue_Disclosure_verification_of_debt                           0\n",
       "Issue_Communication_tactics                                     0\n",
       "Issue_Deposits_and_withdrawals                                  0\n",
       "Issue_Application__originator__mortgage_broker                  0\n",
       "Issue_Billing_disputes                                          0\n",
       "State_CA                                                        0\n",
       "State_FL                                                        0\n",
       "State_TX                                                        0\n",
       "State_NY                                                        0\n",
       "State_GA                                                        0\n",
       "State_NJ                                                        0\n",
       "State_PA                                                        0\n",
       "State_IL                                                        0\n",
       "State_VA                                                        0\n",
       "State_OH                                                        0\n",
       "dtype: int64"
      ]
     },
     "execution_count": 69,
     "metadata": {},
     "output_type": "execute_result"
    }
   ],
   "source": [
    "df_test.isnull().sum()"
   ]
  },
  {
   "cell_type": "code",
   "execution_count": 70,
   "metadata": {},
   "outputs": [
    {
     "data": {
      "text/plain": [
       "<matplotlib.axes._subplots.AxesSubplot at 0x1c53ac2aa90>"
      ]
     },
     "execution_count": 70,
     "metadata": {},
     "output_type": "execute_result"
    },
    {
     "data": {
      "image/png": "[encoded data removed]",
      "text/plain": [
       "<Figure size 1800x720 with 2 Axes>"
      ]
     },
     "metadata": {
      "needs_background": "light"
     },
     "output_type": "display_data"
    }
   ],
   "source": [
    "msno.matrix(df_test)   #Missing Data - Visualization"
   ]
  },
  {
   "cell_type": "code",
   "execution_count": 71,
   "metadata": {},
   "outputs": [
    {
     "data": {
      "text/plain": [
       "(119606, 52)"
      ]
     },
     "execution_count": 71,
     "metadata": {},
     "output_type": "execute_result"
    }
   ],
   "source": [
    "df_test.shape"
   ]
  },
  {
   "cell_type": "code",
   "execution_count": 72,
   "metadata": {},
   "outputs": [
    {
     "data": {
      "text/plain": [
       "(478421, 52)"
      ]
     },
     "execution_count": 72,
     "metadata": {},
     "output_type": "execute_result"
    }
   ],
   "source": [
    "df_train.shape"
   ]
  },
  {
   "cell_type": "code",
   "execution_count": 73,
   "metadata": {},
   "outputs": [
    {
     "data": {
      "text/plain": [
       "((478421, 51), (478421,))"
      ]
     },
     "execution_count": 73,
     "metadata": {},
     "output_type": "execute_result"
    }
   ],
   "source": [
    "# separate dependent & independent features\n",
    "x = df_train.drop(['Consumer disputed?'],1)\n",
    "y = df_train['Consumer disputed?']\n",
    "\n",
    "x.shape, y.shape"
   ]
  },
  {
   "cell_type": "code",
   "execution_count": null,
   "metadata": {},
   "outputs": [],
   "source": []
  },
  {
   "cell_type": "markdown",
   "metadata": {},
   "source": [
    "# Splitting Dataset & Model Building"
   ]
  },
  {
   "cell_type": "code",
   "execution_count": 74,
   "metadata": {},
   "outputs": [],
   "source": [
    "from sklearn.model_selection import train_test_split\n",
    "xtrain, xtest, ytrain, ytest = train_test_split(x, y, test_size=0.25, random_state=124)"
   ]
  },
  {
   "cell_type": "code",
   "execution_count": 75,
   "metadata": {},
   "outputs": [
    {
     "name": "stdout",
     "output_type": "stream",
     "text": [
      "(478421, 51)\n",
      "(478421,)\n",
      "(358815, 51)\n",
      "(119606, 51)\n",
      "(358815,)\n",
      "(119606,)\n"
     ]
    }
   ],
   "source": [
    "#Dimensions of each type after splitting\n",
    "print (x.shape)\n",
    "print (y.shape)\n",
    "print (xtrain.shape)\n",
    "print (xtest.shape)\n",
    "print (ytrain.shape)\n",
    "print (ytest.shape)"
   ]
  },
  {
   "cell_type": "code",
   "execution_count": 76,
   "metadata": {},
   "outputs": [
    {
     "data": {
      "text/plain": [
       "LogisticRegression(C=1.0, class_weight=None, dual=False, fit_intercept=True,\n",
       "                   intercept_scaling=1, l1_ratio=None, max_iter=100,\n",
       "                   multi_class='warn', n_jobs=None, penalty='l2',\n",
       "                   random_state=None, solver='warn', tol=0.0001, verbose=0,\n",
       "                   warm_start=False)"
      ]
     },
     "execution_count": 76,
     "metadata": {},
     "output_type": "execute_result"
    }
   ],
   "source": [
    "from sklearn.linear_model import LogisticRegression\n",
    "logreg=LogisticRegression()\n",
    "logreg.fit(xtrain,ytrain)"
   ]
  },
  {
   "cell_type": "code",
   "execution_count": 77,
   "metadata": {},
   "outputs": [],
   "source": [
    "y_pred=logreg.predict(xtest)"
   ]
  },
  {
   "cell_type": "code",
   "execution_count": 78,
   "metadata": {},
   "outputs": [
    {
     "data": {
      "text/plain": [
       "array([[93272,  1106],\n",
       "       [24917,   311]], dtype=int64)"
      ]
     },
     "execution_count": 78,
     "metadata": {},
     "output_type": "execute_result"
    }
   ],
   "source": [
    "from sklearn.metrics import confusion_matrix\n",
    "cm=confusion_matrix(ytest,y_pred)\n",
    "cm"
   ]
  },
  {
   "cell_type": "code",
   "execution_count": 79,
   "metadata": {},
   "outputs": [
    {
     "data": {
      "text/plain": [
       "([<matplotlib.axis.YTick at 0x1c50e272550>,\n",
       "  <matplotlib.axis.YTick at 0x1c50e26ee48>],\n",
       " <a list of 2 Text yticklabel objects>)"
      ]
     },
     "execution_count": 79,
     "metadata": {},
     "output_type": "execute_result"
    },
    {
     "data": {
      "image/png": "[encoded data removed]",
      "text/plain": [
       "<Figure size 432x288 with 2 Axes>"
      ]
     },
     "metadata": {
      "needs_background": "light"
     },
     "output_type": "display_data"
    }
   ],
   "source": [
    "\n",
    "plt.imshow(cm,interpolation='nearest',cmap=plt.cm.Blues)\n",
    "plt.colorbar()\n",
    "plt.title('Confusion Matrix')\n",
    "labels=['positive','negative']\n",
    "tick_marks=np.arange(len(labels))\n",
    "plt.xticks(tick_marks,labels)\n",
    "plt.yticks(tick_marks,labels)"
   ]
  },
  {
   "cell_type": "code",
   "execution_count": 80,
   "metadata": {},
   "outputs": [
    {
     "data": {
      "text/plain": [
       "0.7824273029781115"
      ]
     },
     "execution_count": 80,
     "metadata": {},
     "output_type": "execute_result"
    }
   ],
   "source": [
    "from sklearn.metrics import accuracy_score\n",
    "score=accuracy_score(ytest,y_pred)\n",
    "score"
   ]
  },
  {
   "cell_type": "markdown",
   "metadata": {},
   "source": [
    "# Cross validate your model"
   ]
  },
  {
   "cell_type": "code",
   "execution_count": 81,
   "metadata": {},
   "outputs": [],
   "source": [
    "from sklearn.model_selection import cross_val_score\n",
    "score=cross_val_score(logreg,x,y,cv=10)"
   ]
  },
  {
   "cell_type": "code",
   "execution_count": 82,
   "metadata": {},
   "outputs": [
    {
     "data": {
      "text/plain": [
       "array([0.78138913, 0.78165629, 0.78146817, 0.78117554, 0.78048577,\n",
       "       0.78171899, 0.7818235 , 0.78245057, 0.78115463, 0.78157268])"
      ]
     },
     "execution_count": 82,
     "metadata": {},
     "output_type": "execute_result"
    }
   ],
   "source": [
    "score"
   ]
  },
  {
   "cell_type": "code",
   "execution_count": 83,
   "metadata": {},
   "outputs": [
    {
     "data": {
      "text/plain": [
       "0.7814895251261926"
      ]
     },
     "execution_count": 83,
     "metadata": {},
     "output_type": "execute_result"
    }
   ],
   "source": [
    "score.mean()"
   ]
  },
  {
   "cell_type": "code",
   "execution_count": null,
   "metadata": {},
   "outputs": [],
   "source": []
  },
  {
   "cell_type": "markdown",
   "metadata": {},
   "source": [
    "# USE MACHINE LEARNING MODEL ALG."
   ]
  },
  {
   "cell_type": "markdown",
   "metadata": {},
   "source": [
    "# Hyperparameter Tuning"
   ]
  },
  {
   "cell_type": "markdown",
   "metadata": {},
   "source": [
    "A Hyperparameter is a parameter whose value is se before the learning process begins.\n",
    "\n",
    "Tuning Strategies\n",
    "1) Grid Search\n",
    "2) Random Search"
   ]
  },
  {
   "cell_type": "markdown",
   "metadata": {},
   "source": [
    "# DecisionTreeClassifier "
   ]
  },
  {
   "cell_type": "code",
   "execution_count": 84,
   "metadata": {},
   "outputs": [],
   "source": [
    "from sklearn.model_selection import RandomizedSearchCV"
   ]
  },
  {
   "cell_type": "code",
   "execution_count": 85,
   "metadata": {},
   "outputs": [],
   "source": [
    "from sklearn.tree import DecisionTreeClassifier"
   ]
  },
  {
   "cell_type": "code",
   "execution_count": 86,
   "metadata": {},
   "outputs": [],
   "source": [
    "# Setup the parameters and distributions to sample from: params\n",
    "# this here is the base classifier we are going to try\n",
    "# we will be supplying different parameter ranges to our randomSearchCV which in turn\n",
    "# will pass it on to this classifier\n",
    "\n",
    "# Utility function to report best scores. This simply accepts grid scores from \n",
    "# our randomSearchCV/GridSearchCV and picks and gives top few combination according to \n",
    "# their scores\n",
    "\n",
    "# RandomSearchCV/GridSearchCV accept parameters values as dictionaries.\n",
    "# In example given below we have constructed dictionary for \n",
    "#different parameter values that we want to\n",
    "# try for randomForest model\n",
    "\n",
    "params={ 'class_weight':[None,'balanced'], \n",
    "        'criterion':['entropy','gini'],\n",
    "        'max_depth':[None,5,10,15,20,30,50,70],\n",
    "            'min_samples_leaf':[1,2,5,10,15,20], \n",
    "            'min_samples_split':[2,5,10,15,20]}"
   ]
  },
  {
   "cell_type": "code",
   "execution_count": 87,
   "metadata": {},
   "outputs": [
    {
     "data": {
      "text/plain": [
       "960"
      ]
     },
     "execution_count": 87,
     "metadata": {},
     "output_type": "execute_result"
    }
   ],
   "source": [
    "2*2*8*6*5"
   ]
  },
  {
   "cell_type": "code",
   "execution_count": 88,
   "metadata": {},
   "outputs": [],
   "source": [
    "# Instantiate a Decision Tree classifier: tree\n",
    "clf=DecisionTreeClassifier()"
   ]
  },
  {
   "cell_type": "code",
   "execution_count": 89,
   "metadata": {},
   "outputs": [],
   "source": [
    "# Instantiate the RandomizedSearchCV object: random_search\n",
    "# n_iter parameter of RandomizedSeacrhCV controls, how many \n",
    "# parameter combination will be tried; out of all possible given values\n",
    "random_search=RandomizedSearchCV(clf,cv=10,  #cv=cross-validation\n",
    "                                 param_distributions=params,    #Dictionary with parameters names as keys and distributions \n",
    "                                 scoring='roc_auc', #Strategy to evaluate the performance\n",
    "                                 n_iter=20,n_jobs=-1,verbose=20)   #Number of parameter settings that are sampled"
   ]
  },
  {
   "cell_type": "code",
   "execution_count": 90,
   "metadata": {},
   "outputs": [
    {
     "name": "stdout",
     "output_type": "stream",
     "text": [
      "Fitting 10 folds for each of 20 candidates, totalling 200 fits\n"
     ]
    },
    {
     "name": "stderr",
     "output_type": "stream",
     "text": [
      "[Parallel(n_jobs=-1)]: Using backend LokyBackend with 4 concurrent workers.\n",
      "[Parallel(n_jobs=-1)]: Done   1 tasks      | elapsed:   56.2s\n",
      "[Parallel(n_jobs=-1)]: Done   2 tasks      | elapsed:   57.1s\n",
      "[Parallel(n_jobs=-1)]: Done   3 tasks      | elapsed:   57.1s\n",
      "[Parallel(n_jobs=-1)]: Done   4 tasks      | elapsed:   57.1s\n",
      "[Parallel(n_jobs=-1)]: Done   5 tasks      | elapsed:  1.6min\n",
      "[Parallel(n_jobs=-1)]: Done   6 tasks      | elapsed:  1.6min\n",
      "[Parallel(n_jobs=-1)]: Done   7 tasks      | elapsed:  1.6min\n",
      "[Parallel(n_jobs=-1)]: Done   8 tasks      | elapsed:  1.7min\n",
      "[Parallel(n_jobs=-1)]: Done   9 tasks      | elapsed:  1.9min\n",
      "[Parallel(n_jobs=-1)]: Done  10 tasks      | elapsed:  1.9min\n",
      "[Parallel(n_jobs=-1)]: Done  11 tasks      | elapsed:  2.0min\n",
      "[Parallel(n_jobs=-1)]: Done  12 tasks      | elapsed:  2.0min\n",
      "[Parallel(n_jobs=-1)]: Done  13 tasks      | elapsed:  2.3min\n",
      "[Parallel(n_jobs=-1)]: Done  14 tasks      | elapsed:  2.3min\n",
      "[Parallel(n_jobs=-1)]: Done  15 tasks      | elapsed:  2.3min\n",
      "[Parallel(n_jobs=-1)]: Done  16 tasks      | elapsed:  2.3min\n",
      "[Parallel(n_jobs=-1)]: Done  17 tasks      | elapsed:  2.6min\n",
      "[Parallel(n_jobs=-1)]: Done  18 tasks      | elapsed:  2.6min\n",
      "[Parallel(n_jobs=-1)]: Done  19 tasks      | elapsed:  2.6min\n",
      "[Parallel(n_jobs=-1)]: Done  20 tasks      | elapsed:  2.6min\n",
      "[Parallel(n_jobs=-1)]: Done  21 tasks      | elapsed:  2.8min\n",
      "[Parallel(n_jobs=-1)]: Done  22 tasks      | elapsed:  2.8min\n",
      "[Parallel(n_jobs=-1)]: Done  23 tasks      | elapsed:  2.8min\n",
      "[Parallel(n_jobs=-1)]: Done  24 tasks      | elapsed:  2.8min\n",
      "[Parallel(n_jobs=-1)]: Done  25 tasks      | elapsed:  3.0min\n",
      "[Parallel(n_jobs=-1)]: Done  26 tasks      | elapsed:  3.0min\n",
      "[Parallel(n_jobs=-1)]: Done  27 tasks      | elapsed:  3.1min\n",
      "[Parallel(n_jobs=-1)]: Done  28 tasks      | elapsed:  3.1min\n",
      "[Parallel(n_jobs=-1)]: Done  29 tasks      | elapsed:  3.2min\n",
      "[Parallel(n_jobs=-1)]: Done  30 tasks      | elapsed:  3.3min\n",
      "[Parallel(n_jobs=-1)]: Done  31 tasks      | elapsed:  3.3min\n",
      "[Parallel(n_jobs=-1)]: Done  32 tasks      | elapsed:  3.3min\n",
      "[Parallel(n_jobs=-1)]: Done  33 tasks      | elapsed:  3.4min\n",
      "[Parallel(n_jobs=-1)]: Done  34 tasks      | elapsed:  3.4min\n",
      "[Parallel(n_jobs=-1)]: Done  35 tasks      | elapsed:  3.5min\n",
      "[Parallel(n_jobs=-1)]: Done  36 tasks      | elapsed:  3.5min\n",
      "[Parallel(n_jobs=-1)]: Done  37 tasks      | elapsed:  3.6min\n",
      "[Parallel(n_jobs=-1)]: Done  38 tasks      | elapsed:  3.6min\n",
      "[Parallel(n_jobs=-1)]: Done  39 tasks      | elapsed:  3.6min\n",
      "[Parallel(n_jobs=-1)]: Done  40 tasks      | elapsed:  3.6min\n",
      "[Parallel(n_jobs=-1)]: Done  41 tasks      | elapsed:  3.8min\n",
      "[Parallel(n_jobs=-1)]: Done  42 tasks      | elapsed:  3.9min\n",
      "[Parallel(n_jobs=-1)]: Done  43 tasks      | elapsed:  3.9min\n",
      "[Parallel(n_jobs=-1)]: Done  44 tasks      | elapsed:  3.9min\n",
      "[Parallel(n_jobs=-1)]: Done  45 tasks      | elapsed:  4.1min\n",
      "[Parallel(n_jobs=-1)]: Done  46 tasks      | elapsed:  4.1min\n",
      "[Parallel(n_jobs=-1)]: Done  47 tasks      | elapsed:  4.2min\n",
      "[Parallel(n_jobs=-1)]: Done  48 tasks      | elapsed:  4.2min\n",
      "[Parallel(n_jobs=-1)]: Done  49 tasks      | elapsed:  4.4min\n",
      "[Parallel(n_jobs=-1)]: Done  50 tasks      | elapsed:  4.4min\n",
      "[Parallel(n_jobs=-1)]: Done  51 tasks      | elapsed:  4.4min\n",
      "[Parallel(n_jobs=-1)]: Done  52 tasks      | elapsed:  4.4min\n",
      "[Parallel(n_jobs=-1)]: Done  53 tasks      | elapsed:  4.6min\n",
      "[Parallel(n_jobs=-1)]: Done  54 tasks      | elapsed:  4.6min\n",
      "[Parallel(n_jobs=-1)]: Done  55 tasks      | elapsed:  4.6min\n",
      "[Parallel(n_jobs=-1)]: Done  56 tasks      | elapsed:  4.6min\n",
      "[Parallel(n_jobs=-1)]: Done  57 tasks      | elapsed:  4.8min\n",
      "[Parallel(n_jobs=-1)]: Done  58 tasks      | elapsed:  4.8min\n",
      "[Parallel(n_jobs=-1)]: Done  59 tasks      | elapsed:  4.8min\n",
      "[Parallel(n_jobs=-1)]: Done  60 tasks      | elapsed:  4.8min\n",
      "[Parallel(n_jobs=-1)]: Done  61 tasks      | elapsed:  5.0min\n",
      "[Parallel(n_jobs=-1)]: Done  62 tasks      | elapsed:  5.0min\n",
      "[Parallel(n_jobs=-1)]: Done  63 tasks      | elapsed:  5.0min\n",
      "[Parallel(n_jobs=-1)]: Done  64 tasks      | elapsed:  5.0min\n",
      "[Parallel(n_jobs=-1)]: Done  65 tasks      | elapsed:  5.3min\n",
      "[Parallel(n_jobs=-1)]: Done  66 tasks      | elapsed:  5.3min\n",
      "[Parallel(n_jobs=-1)]: Done  67 tasks      | elapsed:  5.3min\n",
      "[Parallel(n_jobs=-1)]: Done  68 tasks      | elapsed:  5.3min\n",
      "[Parallel(n_jobs=-1)]: Done  69 tasks      | elapsed:  5.5min\n",
      "[Parallel(n_jobs=-1)]: Done  70 tasks      | elapsed:  5.6min\n",
      "[Parallel(n_jobs=-1)]: Done  71 tasks      | elapsed:  5.6min\n",
      "[Parallel(n_jobs=-1)]: Done  72 tasks      | elapsed:  5.6min\n",
      "[Parallel(n_jobs=-1)]: Done  73 tasks      | elapsed:  5.8min\n",
      "[Parallel(n_jobs=-1)]: Done  74 tasks      | elapsed:  5.8min\n",
      "[Parallel(n_jobs=-1)]: Done  75 tasks      | elapsed:  5.8min\n",
      "[Parallel(n_jobs=-1)]: Done  76 tasks      | elapsed:  5.9min\n",
      "[Parallel(n_jobs=-1)]: Done  77 tasks      | elapsed:  6.1min\n",
      "[Parallel(n_jobs=-1)]: Done  78 tasks      | elapsed:  6.1min\n",
      "[Parallel(n_jobs=-1)]: Done  79 tasks      | elapsed:  6.1min\n",
      "[Parallel(n_jobs=-1)]: Done  80 tasks      | elapsed:  6.1min\n",
      "[Parallel(n_jobs=-1)]: Done  81 tasks      | elapsed:  6.2min\n",
      "[Parallel(n_jobs=-1)]: Done  82 tasks      | elapsed:  6.2min\n",
      "[Parallel(n_jobs=-1)]: Done  83 tasks      | elapsed:  6.2min\n",
      "[Parallel(n_jobs=-1)]: Done  84 tasks      | elapsed:  6.2min\n",
      "[Parallel(n_jobs=-1)]: Done  85 tasks      | elapsed:  6.3min\n",
      "[Parallel(n_jobs=-1)]: Done  86 tasks      | elapsed:  6.3min\n",
      "[Parallel(n_jobs=-1)]: Done  87 tasks      | elapsed:  6.4min\n",
      "[Parallel(n_jobs=-1)]: Done  88 tasks      | elapsed:  6.4min\n",
      "[Parallel(n_jobs=-1)]: Done  89 tasks      | elapsed:  6.4min\n",
      "[Parallel(n_jobs=-1)]: Done  90 tasks      | elapsed:  6.5min\n",
      "[Parallel(n_jobs=-1)]: Done  91 tasks      | elapsed:  6.5min\n",
      "[Parallel(n_jobs=-1)]: Done  92 tasks      | elapsed:  6.5min\n",
      "[Parallel(n_jobs=-1)]: Done  93 tasks      | elapsed:  6.6min\n",
      "[Parallel(n_jobs=-1)]: Done  94 tasks      | elapsed:  6.6min\n",
      "[Parallel(n_jobs=-1)]: Done  95 tasks      | elapsed:  6.6min\n",
      "[Parallel(n_jobs=-1)]: Done  96 tasks      | elapsed:  6.6min\n",
      "[Parallel(n_jobs=-1)]: Done  97 tasks      | elapsed:  6.7min\n",
      "[Parallel(n_jobs=-1)]: Done  98 tasks      | elapsed:  6.7min\n",
      "[Parallel(n_jobs=-1)]: Done  99 tasks      | elapsed:  6.7min\n",
      "[Parallel(n_jobs=-1)]: Done 100 tasks      | elapsed:  6.7min\n",
      "[Parallel(n_jobs=-1)]: Done 101 tasks      | elapsed:  7.1min\n",
      "[Parallel(n_jobs=-1)]: Done 102 tasks      | elapsed:  7.1min\n",
      "[Parallel(n_jobs=-1)]: Done 103 tasks      | elapsed:  7.1min\n",
      "[Parallel(n_jobs=-1)]: Done 104 tasks      | elapsed:  7.1min\n",
      "[Parallel(n_jobs=-1)]: Done 105 tasks      | elapsed:  7.4min\n",
      "[Parallel(n_jobs=-1)]: Done 106 tasks      | elapsed:  7.5min\n",
      "[Parallel(n_jobs=-1)]: Done 107 tasks      | elapsed:  7.5min\n",
      "[Parallel(n_jobs=-1)]: Done 108 tasks      | elapsed:  7.5min\n",
      "[Parallel(n_jobs=-1)]: Done 109 tasks      | elapsed:  7.8min\n",
      "[Parallel(n_jobs=-1)]: Done 110 tasks      | elapsed:  7.8min\n",
      "[Parallel(n_jobs=-1)]: Done 111 tasks      | elapsed:  7.8min\n",
      "[Parallel(n_jobs=-1)]: Done 112 tasks      | elapsed:  7.8min\n",
      "[Parallel(n_jobs=-1)]: Done 113 tasks      | elapsed:  8.0min\n",
      "[Parallel(n_jobs=-1)]: Done 114 tasks      | elapsed:  8.0min\n",
      "[Parallel(n_jobs=-1)]: Done 115 tasks      | elapsed:  8.1min\n",
      "[Parallel(n_jobs=-1)]: Done 116 tasks      | elapsed:  8.1min\n",
      "[Parallel(n_jobs=-1)]: Done 117 tasks      | elapsed:  8.3min\n",
      "[Parallel(n_jobs=-1)]: Done 118 tasks      | elapsed:  8.3min\n",
      "[Parallel(n_jobs=-1)]: Done 119 tasks      | elapsed:  8.3min\n",
      "[Parallel(n_jobs=-1)]: Done 120 tasks      | elapsed:  8.3min\n",
      "[Parallel(n_jobs=-1)]: Done 121 tasks      | elapsed:  8.4min\n",
      "[Parallel(n_jobs=-1)]: Done 122 tasks      | elapsed:  8.4min\n",
      "[Parallel(n_jobs=-1)]: Done 123 tasks      | elapsed:  8.4min\n",
      "[Parallel(n_jobs=-1)]: Done 124 tasks      | elapsed:  8.4min\n",
      "[Parallel(n_jobs=-1)]: Done 125 tasks      | elapsed:  8.5min\n",
      "[Parallel(n_jobs=-1)]: Done 126 tasks      | elapsed:  8.5min\n",
      "[Parallel(n_jobs=-1)]: Done 127 tasks      | elapsed:  8.5min\n",
      "[Parallel(n_jobs=-1)]: Done 128 tasks      | elapsed:  8.5min\n",
      "[Parallel(n_jobs=-1)]: Done 129 tasks      | elapsed:  8.6min\n",
      "[Parallel(n_jobs=-1)]: Done 130 tasks      | elapsed:  8.6min\n",
      "[Parallel(n_jobs=-1)]: Done 131 tasks      | elapsed:  8.8min\n",
      "[Parallel(n_jobs=-1)]: Done 132 tasks      | elapsed:  8.8min\n"
     ]
    },
    {
     "name": "stderr",
     "output_type": "stream",
     "text": [
      "[Parallel(n_jobs=-1)]: Done 133 tasks      | elapsed:  8.8min\n",
      "[Parallel(n_jobs=-1)]: Done 134 tasks      | elapsed:  8.9min\n",
      "[Parallel(n_jobs=-1)]: Done 135 tasks      | elapsed:  9.1min\n",
      "[Parallel(n_jobs=-1)]: Done 136 tasks      | elapsed:  9.1min\n",
      "[Parallel(n_jobs=-1)]: Done 137 tasks      | elapsed:  9.1min\n",
      "[Parallel(n_jobs=-1)]: Done 138 tasks      | elapsed:  9.1min\n",
      "[Parallel(n_jobs=-1)]: Done 139 tasks      | elapsed:  9.3min\n",
      "[Parallel(n_jobs=-1)]: Done 140 tasks      | elapsed:  9.3min\n",
      "[Parallel(n_jobs=-1)]: Done 141 tasks      | elapsed:  9.4min\n",
      "[Parallel(n_jobs=-1)]: Done 142 tasks      | elapsed:  9.4min\n",
      "[Parallel(n_jobs=-1)]: Done 143 tasks      | elapsed:  9.5min\n",
      "[Parallel(n_jobs=-1)]: Done 144 tasks      | elapsed:  9.5min\n",
      "[Parallel(n_jobs=-1)]: Done 145 tasks      | elapsed:  9.6min\n",
      "[Parallel(n_jobs=-1)]: Done 146 tasks      | elapsed:  9.6min\n",
      "[Parallel(n_jobs=-1)]: Done 147 tasks      | elapsed:  9.7min\n",
      "[Parallel(n_jobs=-1)]: Done 148 tasks      | elapsed:  9.7min\n",
      "[Parallel(n_jobs=-1)]: Done 149 tasks      | elapsed:  9.8min\n",
      "[Parallel(n_jobs=-1)]: Done 150 tasks      | elapsed:  9.8min\n",
      "[Parallel(n_jobs=-1)]: Done 151 tasks      | elapsed:  9.9min\n",
      "[Parallel(n_jobs=-1)]: Done 152 tasks      | elapsed:  9.9min\n",
      "[Parallel(n_jobs=-1)]: Done 153 tasks      | elapsed: 10.0min\n",
      "[Parallel(n_jobs=-1)]: Done 154 tasks      | elapsed: 10.0min\n",
      "[Parallel(n_jobs=-1)]: Done 155 tasks      | elapsed: 10.1min\n",
      "[Parallel(n_jobs=-1)]: Done 156 tasks      | elapsed: 10.1min\n",
      "[Parallel(n_jobs=-1)]: Done 157 tasks      | elapsed: 10.2min\n",
      "[Parallel(n_jobs=-1)]: Done 158 tasks      | elapsed: 10.2min\n",
      "[Parallel(n_jobs=-1)]: Done 159 tasks      | elapsed: 10.3min\n",
      "[Parallel(n_jobs=-1)]: Done 160 tasks      | elapsed: 10.4min\n",
      "[Parallel(n_jobs=-1)]: Done 161 tasks      | elapsed: 10.4min\n",
      "[Parallel(n_jobs=-1)]: Done 162 tasks      | elapsed: 10.4min\n",
      "[Parallel(n_jobs=-1)]: Done 163 tasks      | elapsed: 10.6min\n",
      "[Parallel(n_jobs=-1)]: Done 164 tasks      | elapsed: 10.6min\n",
      "[Parallel(n_jobs=-1)]: Done 165 tasks      | elapsed: 10.7min\n",
      "[Parallel(n_jobs=-1)]: Done 166 tasks      | elapsed: 10.7min\n",
      "[Parallel(n_jobs=-1)]: Done 167 tasks      | elapsed: 10.8min\n",
      "[Parallel(n_jobs=-1)]: Done 168 tasks      | elapsed: 10.8min\n",
      "[Parallel(n_jobs=-1)]: Done 169 tasks      | elapsed: 10.9min\n",
      "[Parallel(n_jobs=-1)]: Done 170 tasks      | elapsed: 10.9min\n",
      "[Parallel(n_jobs=-1)]: Done 171 tasks      | elapsed: 11.0min\n",
      "[Parallel(n_jobs=-1)]: Done 172 tasks      | elapsed: 11.0min\n",
      "[Parallel(n_jobs=-1)]: Done 173 tasks      | elapsed: 11.1min\n",
      "[Parallel(n_jobs=-1)]: Done 174 tasks      | elapsed: 11.1min\n",
      "[Parallel(n_jobs=-1)]: Done 175 tasks      | elapsed: 11.2min\n",
      "[Parallel(n_jobs=-1)]: Done 176 tasks      | elapsed: 11.2min\n",
      "[Parallel(n_jobs=-1)]: Done 177 tasks      | elapsed: 11.3min\n",
      "[Parallel(n_jobs=-1)]: Done 178 tasks      | elapsed: 11.3min\n",
      "[Parallel(n_jobs=-1)]: Done 179 tasks      | elapsed: 11.3min\n",
      "[Parallel(n_jobs=-1)]: Done 180 tasks      | elapsed: 11.4min\n",
      "[Parallel(n_jobs=-1)]: Done 181 tasks      | elapsed: 11.5min\n",
      "[Parallel(n_jobs=-1)]: Done 182 tasks      | elapsed: 11.5min\n",
      "[Parallel(n_jobs=-1)]: Done 183 tasks      | elapsed: 11.5min\n",
      "[Parallel(n_jobs=-1)]: Done 184 tasks      | elapsed: 11.6min\n",
      "[Parallel(n_jobs=-1)]: Done 185 tasks      | elapsed: 11.7min\n",
      "[Parallel(n_jobs=-1)]: Done 186 tasks      | elapsed: 11.7min\n",
      "[Parallel(n_jobs=-1)]: Done 187 tasks      | elapsed: 11.8min\n",
      "[Parallel(n_jobs=-1)]: Done 188 tasks      | elapsed: 11.8min\n",
      "[Parallel(n_jobs=-1)]: Done 189 tasks      | elapsed: 11.9min\n",
      "[Parallel(n_jobs=-1)]: Done 190 tasks      | elapsed: 11.9min\n",
      "[Parallel(n_jobs=-1)]: Done 191 tasks      | elapsed: 12.1min\n",
      "[Parallel(n_jobs=-1)]: Done 192 tasks      | elapsed: 12.1min\n",
      "[Parallel(n_jobs=-1)]: Done 193 tasks      | elapsed: 12.2min\n",
      "[Parallel(n_jobs=-1)]: Done 200 out of 200 | elapsed: 12.6min finished\n"
     ]
    },
    {
     "data": {
      "text/plain": [
       "RandomizedSearchCV(cv=10, error_score='raise-deprecating',\n",
       "                   estimator=DecisionTreeClassifier(class_weight=None,\n",
       "                                                    criterion='gini',\n",
       "                                                    max_depth=None,\n",
       "                                                    max_features=None,\n",
       "                                                    max_leaf_nodes=None,\n",
       "                                                    min_impurity_decrease=0.0,\n",
       "                                                    min_impurity_split=None,\n",
       "                                                    min_samples_leaf=1,\n",
       "                                                    min_samples_split=2,\n",
       "                                                    min_weight_fraction_leaf=0.0,\n",
       "                                                    presort=False,\n",
       "                                                    random_state=None,\n",
       "                                                    splitter='best'),\n",
       "                   iid='warn', n_iter=20, n_jobs=-1,\n",
       "                   param_distributions={'class_weight': [None, 'balanced'],\n",
       "                                        'criterion': ['entropy', 'gini'],\n",
       "                                        'max_depth': [None, 5, 10, 15, 20, 30,\n",
       "                                                      50, 70],\n",
       "                                        'min_samples_leaf': [1, 2, 5, 10, 15,\n",
       "                                                             20],\n",
       "                                        'min_samples_split': [2, 5, 10, 15,\n",
       "                                                              20]},\n",
       "                   pre_dispatch='2*n_jobs', random_state=None, refit=True,\n",
       "                   return_train_score=False, scoring='roc_auc', verbose=20)"
      ]
     },
     "execution_count": 90,
     "metadata": {},
     "output_type": "execute_result"
    }
   ],
   "source": [
    "random_search.fit(xtrain,ytrain)  # Fit it to the data"
   ]
  },
  {
   "cell_type": "code",
   "execution_count": 91,
   "metadata": {},
   "outputs": [],
   "source": [
    "# Print the tuned parameters and score\n",
    "def report(results, n_top=3):\n",
    "    for i in range(1,n_top+1):\n",
    "        candidates = np.flatnonzero(results['rank_test_score']== i)\n",
    "        \n",
    "        for candidate in candidates:\n",
    "            print('Model with rank: {0}'.format(i))\n",
    "            print('Mean Validation Score: {0:.8f} (std:{1:.3f})'.format(\n",
    "                    results['mean_test_score'][candidate],\n",
    "                    results['std_test_score'][candidate]))\n",
    "            print(\"Parameters:{0}\".format(results['params'][candidate]))\n",
    "            print(\"\")"
   ]
  },
  {
   "cell_type": "code",
   "execution_count": 92,
   "metadata": {},
   "outputs": [
    {
     "name": "stdout",
     "output_type": "stream",
     "text": [
      "Model with rank: 1\n",
      "Mean Validation Score: 0.62300839 (std:0.003)\n",
      "Parameters:{'min_samples_split': 10, 'min_samples_leaf': 2, 'max_depth': 15, 'criterion': 'entropy', 'class_weight': None}\n",
      "\n",
      "Model with rank: 2\n",
      "Mean Validation Score: 0.62284237 (std:0.003)\n",
      "Parameters:{'min_samples_split': 5, 'min_samples_leaf': 2, 'max_depth': 15, 'criterion': 'entropy', 'class_weight': None}\n",
      "\n",
      "Model with rank: 3\n",
      "Mean Validation Score: 0.62257882 (std:0.003)\n",
      "Parameters:{'min_samples_split': 10, 'min_samples_leaf': 5, 'max_depth': 15, 'criterion': 'entropy', 'class_weight': 'balanced'}\n",
      "\n",
      "Model with rank: 4\n",
      "Mean Validation Score: 0.61452079 (std:0.003)\n",
      "Parameters:{'min_samples_split': 10, 'min_samples_leaf': 1, 'max_depth': 5, 'criterion': 'gini', 'class_weight': 'balanced'}\n",
      "\n",
      "Model with rank: 5\n",
      "Mean Validation Score: 0.61389049 (std:0.003)\n",
      "Parameters:{'min_samples_split': 2, 'min_samples_leaf': 15, 'max_depth': 5, 'criterion': 'gini', 'class_weight': None}\n",
      "\n"
     ]
    }
   ],
   "source": [
    "report(random_search.cv_results_,5)"
   ]
  },
  {
   "cell_type": "code",
   "execution_count": 93,
   "metadata": {},
   "outputs": [
    {
     "data": {
      "text/plain": [
       "DecisionTreeClassifier(class_weight=None, criterion='entropy', max_depth=15,\n",
       "                       max_features=None, max_leaf_nodes=None,\n",
       "                       min_impurity_decrease=0.0, min_impurity_split=None,\n",
       "                       min_samples_leaf=2, min_samples_split=10,\n",
       "                       min_weight_fraction_leaf=0.0, presort=False,\n",
       "                       random_state=None, splitter='best')"
      ]
     },
     "execution_count": 93,
     "metadata": {},
     "output_type": "execute_result"
    }
   ],
   "source": [
    "#contains the information ofthe best model\n",
    "random_search.best_estimator_    #print best best_estimator_"
   ]
  },
  {
   "cell_type": "code",
   "execution_count": 94,
   "metadata": {},
   "outputs": [],
   "source": [
    "dtree=random_search.best_estimator_"
   ]
  },
  {
   "cell_type": "code",
   "execution_count": 95,
   "metadata": {},
   "outputs": [
    {
     "data": {
      "text/plain": [
       "DecisionTreeClassifier(class_weight=None, criterion='entropy', max_depth=15,\n",
       "                       max_features=None, max_leaf_nodes=None,\n",
       "                       min_impurity_decrease=0.0, min_impurity_split=None,\n",
       "                       min_samples_leaf=2, min_samples_split=10,\n",
       "                       min_weight_fraction_leaf=0.0, presort=False,\n",
       "                       random_state=None, splitter='best')"
      ]
     },
     "execution_count": 95,
     "metadata": {},
     "output_type": "execute_result"
    }
   ],
   "source": [
    "#Fit a model on the train data.\n",
    "dtree.fit(xtrain,ytrain)   # Fit it to the data"
   ]
  },
  {
   "cell_type": "code",
   "execution_count": 96,
   "metadata": {},
   "outputs": [
    {
     "data": {
      "text/plain": [
       "array([[0.88625304, 0.11374696],\n",
       "       [0.66785291, 0.33214709],\n",
       "       [0.79128137, 0.20871863],\n",
       "       ...,\n",
       "       [0.77781513, 0.22218487],\n",
       "       [0.73083475, 0.26916525],\n",
       "       [0.80983847, 0.19016153]])"
      ]
     },
     "execution_count": 96,
     "metadata": {},
     "output_type": "execute_result"
    }
   ],
   "source": [
    "#Predict probabilities for the train data.\n",
    "dtree.predict_proba(xtrain)"
   ]
  },
  {
   "cell_type": "code",
   "execution_count": 97,
   "metadata": {},
   "outputs": [
    {
     "data": {
      "text/plain": [
       "array([0, 1])"
      ]
     },
     "execution_count": 97,
     "metadata": {},
     "output_type": "execute_result"
    }
   ],
   "source": [
    "dtree.classes_"
   ]
  },
  {
   "cell_type": "code",
   "execution_count": 98,
   "metadata": {},
   "outputs": [
    {
     "data": {
      "text/plain": [
       "array([0.11374696, 0.33214709, 0.20871863, ..., 0.22218487, 0.26916525,\n",
       "       0.19016153])"
      ]
     },
     "execution_count": 98,
     "metadata": {},
     "output_type": "execute_result"
    }
   ],
   "source": [
    "#Keep Probabilities of the positive class only.\n",
    "train_score=dtree.predict_proba(xtrain)[:,1] \n",
    "train_score"
   ]
  },
  {
   "cell_type": "code",
   "execution_count": 99,
   "metadata": {},
   "outputs": [],
   "source": [
    "actual = ytrain"
   ]
  },
  {
   "cell_type": "code",
   "execution_count": 100,
   "metadata": {},
   "outputs": [
    {
     "data": {
      "text/plain": [
       "array([0.01, 0.02, 0.03, 0.04, 0.05, 0.06, 0.07, 0.08, 0.09, 0.1 , 0.11,\n",
       "       0.12, 0.13, 0.14, 0.15, 0.16, 0.17, 0.18, 0.19, 0.2 , 0.21, 0.22,\n",
       "       0.23, 0.24, 0.25, 0.26, 0.27, 0.28, 0.29, 0.3 , 0.31, 0.32, 0.33,\n",
       "       0.34, 0.35, 0.36, 0.37, 0.38, 0.39, 0.4 , 0.41, 0.42, 0.43, 0.44,\n",
       "       0.45, 0.46, 0.47, 0.48, 0.49, 0.5 , 0.51, 0.52, 0.53, 0.54, 0.55,\n",
       "       0.56, 0.57, 0.58, 0.59, 0.6 , 0.61, 0.62, 0.63, 0.64, 0.65, 0.66,\n",
       "       0.67, 0.68, 0.69, 0.7 , 0.71, 0.72, 0.73, 0.74, 0.75, 0.76, 0.77,\n",
       "       0.78, 0.79, 0.8 , 0.81, 0.82, 0.83, 0.84, 0.85, 0.86, 0.87, 0.88,\n",
       "       0.89, 0.9 , 0.91, 0.92, 0.93, 0.94, 0.95, 0.96, 0.97, 0.98, 0.99])"
      ]
     },
     "execution_count": 100,
     "metadata": {},
     "output_type": "execute_result"
    }
   ],
   "source": [
    "cutoffs = np.linspace(0.01,0.99,99)\n",
    "cutoffs"
   ]
  },
  {
   "cell_type": "code",
   "execution_count": 101,
   "metadata": {},
   "outputs": [],
   "source": [
    "\n",
    "conf_mat =[]\n",
    "for cutoff in cutoffs:\n",
    "    \n",
    "    predicted = (train_score > cutoff).astype(int)\n",
    "    \n",
    "    True_Positive = ((actual==1)&(predicted==1)).sum() #The model predicted the positive class correctly, to be a positive class.\n",
    "    False_Positive= ((actual==0) &(predicted==1)).sum()#The model predicted the negative class incorrectly, to be a positive class.\n",
    "    True_Negative = ((actual==0)&(predicted==0)).sum() #The model predicted the positive class incorrectly, to be the negative class.\n",
    "    False_Negative = ((actual==1)&(predicted==0)).sum() #The model predicted the negative class correctly, to be the negative class.\n",
    "    \n",
    "    \n",
    "    P = True_Positive+False_Negative\n",
    "    N = True_Negative+False_Positive\n",
    "    #Recall: Out of all the positive classes, how many instances were identified correctly.\n",
    "    #Recall = TP / (TP + FN)\n",
    "    \n",
    "    #Precision: Out of all the predicted positive instances, how many were predicted correctly.\n",
    "    #Precision = TP / (TP + FP)\n",
    "    KS = (True_Positive/P)-(False_Positive/N)  #sensitity(TPR)-fullout(FPR)\n",
    "    \n",
    "    conf_mat.append(KS)"
   ]
  },
  {
   "cell_type": "code",
   "execution_count": 102,
   "metadata": {},
   "outputs": [
    {
     "data": {
      "text/plain": [
       "0.21000000000000002"
      ]
     },
     "execution_count": 102,
     "metadata": {},
     "output_type": "execute_result"
    }
   ],
   "source": [
    "mycutoff = cutoffs[conf_mat==max(conf_mat)][0]\n",
    "mycutoff"
   ]
  },
  {
   "cell_type": "code",
   "execution_count": 103,
   "metadata": {},
   "outputs": [
    {
     "data": {
      "text/plain": [
       "array([0.19355157, 0.13333333, 0.26214354, ..., 0.15130024, 0.26214354,\n",
       "       0.20220588])"
      ]
     },
     "execution_count": 103,
     "metadata": {},
     "output_type": "execute_result"
    }
   ],
   "source": [
    "test_score=dtree.predict_proba(xtest)[:,1]\n",
    "test_score"
   ]
  },
  {
   "cell_type": "code",
   "execution_count": 104,
   "metadata": {},
   "outputs": [
    {
     "data": {
      "text/plain": [
       "array([0, 0, 1, ..., 0, 1, 0])"
      ]
     },
     "execution_count": 104,
     "metadata": {},
     "output_type": "execute_result"
    }
   ],
   "source": [
    "test_classes = (test_score>mycutoff).astype(int)\n",
    "test_classes"
   ]
  },
  {
   "cell_type": "markdown",
   "metadata": {},
   "source": [
    "AUC–ROC curve is the model selection metric for bi–multi class classification problem. ROC is a probability curve for different classes. ROC tells us how good the model is for distinguishing the given classes, in terms of the predicted probability.\n",
    "\n",
    "A typical ROC curve has False Positive Rate (FPR) on the X-axis and True Positive Rate (TPR) on the Y-axis.\n",
    "\n"
   ]
  },
  {
   "cell_type": "code",
   "execution_count": 105,
   "metadata": {},
   "outputs": [],
   "source": [
    "from sklearn.metrics import roc_auc_score"
   ]
  },
  {
   "cell_type": "code",
   "execution_count": 106,
   "metadata": {},
   "outputs": [
    {
     "name": "stdout",
     "output_type": "stream",
     "text": [
      "AUC: 0.59\n"
     ]
    }
   ],
   "source": [
    "#Compute the AUC Score.\n",
    "score = roc_auc_score(ytest,test_classes)\n",
    "print('AUC: %.2f' % score)"
   ]
  },
  {
   "cell_type": "code",
   "execution_count": 107,
   "metadata": {},
   "outputs": [],
   "source": [
    "from sklearn.metrics import roc_curve\n",
    "from sklearn.metrics import roc_auc_score"
   ]
  },
  {
   "cell_type": "code",
   "execution_count": 108,
   "metadata": {},
   "outputs": [],
   "source": [
    "#Defining a python function to plot the ROC curves.\n",
    "\n",
    "def plot_roc_curve(fpr, tpr):\n",
    "    plt.plot(fpr, tpr, color='orange', label='ROC')\n",
    "    plt.plot([0, 1], [0, 1], color='darkblue', linestyle='--')\n",
    "    plt.xlabel('False Positive Rate')\n",
    "    plt.ylabel('True Positive Rate')\n",
    "    plt.title('Receiver Operating Characteristic (ROC) Curve')\n",
    "    plt.legend()\n",
    "    plt.show()"
   ]
  },
  {
   "cell_type": "code",
   "execution_count": 109,
   "metadata": {},
   "outputs": [],
   "source": [
    "#Get the ROC Curve.\n",
    "fpr, tpr, thresholds = roc_curve(ytest, test_classes)"
   ]
  },
  {
   "cell_type": "code",
   "execution_count": 110,
   "metadata": {},
   "outputs": [
    {
     "data": {
      "image/png": "[encoded data removed]",
      "text/plain": [
       "<Figure size 432x288 with 1 Axes>"
      ]
     },
     "metadata": {
      "needs_background": "light"
     },
     "output_type": "display_data"
    }
   ],
   "source": [
    "#Plot ROC Curve using our defined function\n",
    "plot_roc_curve(fpr, tpr)"
   ]
  },
  {
   "cell_type": "markdown",
   "metadata": {},
   "source": [
    "# Boosting Machines\n"
   ]
  },
  {
   "cell_type": "code",
   "execution_count": null,
   "metadata": {},
   "outputs": [],
   "source": []
  },
  {
   "cell_type": "code",
   "execution_count": 111,
   "metadata": {},
   "outputs": [],
   "source": [
    "base_clf=DecisionTreeClassifier(max_leaf_nodes=4,class_weight='balanced')"
   ]
  },
  {
   "cell_type": "code",
   "execution_count": 112,
   "metadata": {},
   "outputs": [],
   "source": [
    "from sklearn.ensemble import AdaBoostClassifier"
   ]
  },
  {
   "cell_type": "code",
   "execution_count": 113,
   "metadata": {},
   "outputs": [],
   "source": [
    "adb_params={'n_estimators':[50,100,500],\n",
    "           'learning_rate': [0.01,.1,1]\n",
    "           }\n",
    "adb=AdaBoostClassifier(base_estimator=base_clf)"
   ]
  },
  {
   "cell_type": "code",
   "execution_count": 114,
   "metadata": {},
   "outputs": [],
   "source": [
    "from sklearn.model_selection import GridSearchCV"
   ]
  },
  {
   "cell_type": "code",
   "execution_count": 115,
   "metadata": {},
   "outputs": [],
   "source": [
    "complete_search=GridSearchCV(adb,scoring='roc_auc',param_grid=adb_params,cv=5,n_jobs=-1,verbose=20)"
   ]
  },
  {
   "cell_type": "code",
   "execution_count": 116,
   "metadata": {},
   "outputs": [
    {
     "name": "stdout",
     "output_type": "stream",
     "text": [
      "Fitting 5 folds for each of 9 candidates, totalling 45 fits\n"
     ]
    },
    {
     "name": "stderr",
     "output_type": "stream",
     "text": [
      "[Parallel(n_jobs=-1)]: Using backend LokyBackend with 4 concurrent workers.\n",
      "[Parallel(n_jobs=-1)]: Done   1 tasks      | elapsed:  2.9min\n",
      "[Parallel(n_jobs=-1)]: Done   2 tasks      | elapsed:  2.9min\n",
      "[Parallel(n_jobs=-1)]: Done   3 tasks      | elapsed:  3.0min\n",
      "[Parallel(n_jobs=-1)]: Done   4 tasks      | elapsed:  3.0min\n",
      "[Parallel(n_jobs=-1)]: Done   5 tasks      | elapsed:  6.4min\n",
      "[Parallel(n_jobs=-1)]: Done   6 tasks      | elapsed:  9.1min\n",
      "[Parallel(n_jobs=-1)]: Done   7 tasks      | elapsed:  9.1min\n",
      "[Parallel(n_jobs=-1)]: Done   8 tasks      | elapsed:  9.2min\n",
      "[Parallel(n_jobs=-1)]: Done   9 tasks      | elapsed: 11.9min\n",
      "[Parallel(n_jobs=-1)]: Done  10 tasks      | elapsed: 14.6min\n",
      "[Parallel(n_jobs=-1)]: Done  11 tasks      | elapsed: 35.4min\n",
      "[Parallel(n_jobs=-1)]: Done  12 tasks      | elapsed: 35.5min\n",
      "[Parallel(n_jobs=-1)]: Done  13 tasks      | elapsed: 38.1min\n",
      "[Parallel(n_jobs=-1)]: Done  14 tasks      | elapsed: 38.2min\n",
      "[Parallel(n_jobs=-1)]: Done  15 tasks      | elapsed: 40.7min\n",
      "[Parallel(n_jobs=-1)]: Done  16 tasks      | elapsed: 40.8min\n",
      "[Parallel(n_jobs=-1)]: Done  17 tasks      | elapsed: 40.9min\n",
      "[Parallel(n_jobs=-1)]: Done  18 tasks      | elapsed: 43.4min\n",
      "[Parallel(n_jobs=-1)]: Done  19 tasks      | elapsed: 43.4min\n",
      "[Parallel(n_jobs=-1)]: Done  20 tasks      | elapsed: 46.0min\n",
      "[Parallel(n_jobs=-1)]: Done  21 tasks      | elapsed: 48.5min\n",
      "[Parallel(n_jobs=-1)]: Done  22 tasks      | elapsed: 48.6min\n",
      "[Parallel(n_jobs=-1)]: Done  23 tasks      | elapsed: 51.2min\n",
      "[Parallel(n_jobs=-1)]: Done  24 tasks      | elapsed: 53.7min\n",
      "[Parallel(n_jobs=-1)]: Done  25 tasks      | elapsed: 61.5min\n",
      "[Parallel(n_jobs=-1)]: Done  26 tasks      | elapsed: 69.6min\n",
      "[Parallel(n_jobs=-1)]: Done  27 tasks      | elapsed: 72.1min\n",
      "[Parallel(n_jobs=-1)]: Done  28 tasks      | elapsed: 74.2min\n",
      "[Parallel(n_jobs=-1)]: Done  29 tasks      | elapsed: 74.5min\n",
      "[Parallel(n_jobs=-1)]: Done  30 tasks      | elapsed: 76.4min\n",
      "[Parallel(n_jobs=-1)]: Done  31 tasks      | elapsed: 76.8min\n",
      "[Parallel(n_jobs=-1)]: Done  32 tasks      | elapsed: 78.6min\n",
      "[Parallel(n_jobs=-1)]: Done  33 tasks      | elapsed: 79.0min\n",
      "[Parallel(n_jobs=-1)]: Done  34 tasks      | elapsed: 82.5min\n",
      "[Parallel(n_jobs=-1)]: Done  35 tasks      | elapsed: 82.7min\n",
      "[Parallel(n_jobs=-1)]: Done  36 tasks      | elapsed: 83.1min\n",
      "[Parallel(n_jobs=-1)]: Done  37 tasks      | elapsed: 86.8min\n",
      "[Parallel(n_jobs=-1)]: Done  38 tasks      | elapsed: 86.9min\n",
      "[Parallel(n_jobs=-1)]: Done  41 out of  45 | elapsed: 107.7min remaining: 10.5min\n",
      "[Parallel(n_jobs=-1)]: Done  45 out of  45 | elapsed: 117.8min finished\n"
     ]
    },
    {
     "data": {
      "text/plain": [
       "GridSearchCV(cv=5, error_score='raise-deprecating',\n",
       "             estimator=AdaBoostClassifier(algorithm='SAMME.R',\n",
       "                                          base_estimator=DecisionTreeClassifier(class_weight='balanced',\n",
       "                                                                                criterion='gini',\n",
       "                                                                                max_depth=None,\n",
       "                                                                                max_features=None,\n",
       "                                                                                max_leaf_nodes=4,\n",
       "                                                                                min_impurity_decrease=0.0,\n",
       "                                                                                min_impurity_split=None,\n",
       "                                                                                min_samples_leaf=1,\n",
       "                                                                                min_samples_split=2,\n",
       "                                                                                min_weight_fraction_leaf=0.0,\n",
       "                                                                                presort=False,\n",
       "                                                                                random_state=None,\n",
       "                                                                                splitter='best'),\n",
       "                                          learning_rate=1.0, n_estimators=50,\n",
       "                                          random_state=None),\n",
       "             iid='warn', n_jobs=-1,\n",
       "             param_grid={'learning_rate': [0.01, 0.1, 1],\n",
       "                         'n_estimators': [50, 100, 500]},\n",
       "             pre_dispatch='2*n_jobs', refit=True, return_train_score=False,\n",
       "             scoring='roc_auc', verbose=20)"
      ]
     },
     "execution_count": 116,
     "metadata": {},
     "output_type": "execute_result"
    }
   ],
   "source": [
    "complete_search.fit(xtrain,ytrain)"
   ]
  },
  {
   "cell_type": "code",
   "execution_count": 117,
   "metadata": {},
   "outputs": [],
   "source": [
    "def report(results,n_top=5):\n",
    "    for i in range(1,n_top+1):\n",
    "        cands = np.flatnonzero(results['rank_test_score']==i)\n",
    "        for c in cands:\n",
    "            print(f\"Model with rank {i}\")\n",
    "            print(f\"Mean validation score:{results['mean_test_score'][c]} (std:{results['std_test_score'][c]})\")\n",
    "            print(f\"Parameters:{results['params'][c]}\")\n",
    "            print(' ')\n",
    "                  "
   ]
  },
  {
   "cell_type": "code",
   "execution_count": 118,
   "metadata": {},
   "outputs": [
    {
     "name": "stdout",
     "output_type": "stream",
     "text": [
      "Model with rank 1\n",
      "Mean validation score:0.6344609710211054 (std:0.00157135281469795)\n",
      "Parameters:{'learning_rate': 0.1, 'n_estimators': 500}\n",
      " \n",
      "Model with rank 2\n",
      "Mean validation score:0.6326051598020468 (std:0.001475931772230084)\n",
      "Parameters:{'learning_rate': 1, 'n_estimators': 100}\n",
      " \n",
      "Model with rank 3\n",
      "Mean validation score:0.6323452143233623 (std:0.0014283028811131655)\n",
      "Parameters:{'learning_rate': 1, 'n_estimators': 50}\n",
      " \n",
      "Model with rank 4\n",
      "Mean validation score:0.6278121352499805 (std:0.0019143991277173558)\n",
      "Parameters:{'learning_rate': 0.1, 'n_estimators': 100}\n",
      " \n",
      "Model with rank 5\n",
      "Mean validation score:0.6265495573832991 (std:0.0017760573780448159)\n",
      "Parameters:{'learning_rate': 1, 'n_estimators': 500}\n",
      " \n"
     ]
    }
   ],
   "source": [
    "report(complete_search.cv_results_,5)"
   ]
  },
  {
   "cell_type": "code",
   "execution_count": 119,
   "metadata": {},
   "outputs": [
    {
     "data": {
      "text/plain": [
       "AdaBoostClassifier(algorithm='SAMME.R',\n",
       "                   base_estimator=DecisionTreeClassifier(class_weight='balanced',\n",
       "                                                         criterion='gini',\n",
       "                                                         max_depth=None,\n",
       "                                                         max_features=None,\n",
       "                                                         max_leaf_nodes=4,\n",
       "                                                         min_impurity_decrease=0.0,\n",
       "                                                         min_impurity_split=None,\n",
       "                                                         min_samples_leaf=1,\n",
       "                                                         min_samples_split=2,\n",
       "                                                         min_weight_fraction_leaf=0.0,\n",
       "                                                         presort=False,\n",
       "                                                         random_state=None,\n",
       "                                                         splitter='best'),\n",
       "                   learning_rate=0.1, n_estimators=500, random_state=None)"
      ]
     },
     "execution_count": 119,
     "metadata": {},
     "output_type": "execute_result"
    }
   ],
   "source": [
    "complete_search.best_estimator_"
   ]
  },
  {
   "cell_type": "code",
   "execution_count": 197,
   "metadata": {},
   "outputs": [],
   "source": [
    "adb_best = complete_search.best_estimator_"
   ]
  },
  {
   "cell_type": "code",
   "execution_count": 211,
   "metadata": {},
   "outputs": [
    {
     "data": {
      "text/plain": [
       "AdaBoostClassifier(algorithm='SAMME.R',\n",
       "                   base_estimator=DecisionTreeClassifier(class_weight='balanced',\n",
       "                                                         criterion='gini',\n",
       "                                                         max_depth=None,\n",
       "                                                         max_features=None,\n",
       "                                                         max_leaf_nodes=4,\n",
       "                                                         min_impurity_decrease=0.0,\n",
       "                                                         min_impurity_split=None,\n",
       "                                                         min_samples_leaf=1,\n",
       "                                                         min_samples_split=2,\n",
       "                                                         min_weight_fraction_leaf=0.0,\n",
       "                                                         presort=False,\n",
       "                                                         random_state=None,\n",
       "                                                         splitter='best'),\n",
       "                   learning_rate=0.1, n_estimators=500, random_state=None)"
      ]
     },
     "execution_count": 211,
     "metadata": {},
     "output_type": "execute_result"
    }
   ],
   "source": [
    "#Fit a model on the train data.\n",
    "adb_best.fit(xtrain,ytrain)"
   ]
  },
  {
   "cell_type": "code",
   "execution_count": 212,
   "metadata": {},
   "outputs": [],
   "source": [
    "#Predict probabilities for the test data.\n",
    "#Keep Probabilities of the positive class only.\n",
    "pred = adb_best.predict_proba(xtest)[:,1]"
   ]
  },
  {
   "cell_type": "code",
   "execution_count": 213,
   "metadata": {},
   "outputs": [
    {
     "data": {
      "text/plain": [
       "array([0, 1])"
      ]
     },
     "execution_count": 213,
     "metadata": {},
     "output_type": "execute_result"
    }
   ],
   "source": [
    "adb_best.classes_"
   ]
  },
  {
   "cell_type": "code",
   "execution_count": 214,
   "metadata": {},
   "outputs": [],
   "source": [
    "#Import libraries\n",
    "from sklearn.metrics import roc_auc_score"
   ]
  },
  {
   "cell_type": "code",
   "execution_count": 215,
   "metadata": {},
   "outputs": [
    {
     "name": "stdout",
     "output_type": "stream",
     "text": [
      "AUC: 0.63\n"
     ]
    }
   ],
   "source": [
    "#Compute the AUC Score.\n",
    "score=roc_auc_score(ytest,pred)\n",
    "print('AUC: %.2f' % score)"
   ]
  },
  {
   "cell_type": "code",
   "execution_count": 216,
   "metadata": {},
   "outputs": [],
   "source": [
    "#Get the ROC Curve.\n",
    "fpr, tpr, thresholds = roc_curve(ytest, pred)"
   ]
  },
  {
   "cell_type": "code",
   "execution_count": 217,
   "metadata": {},
   "outputs": [
    {
     "data": {
      "image/png": "[encoded data removed]",
      "text/plain": [
       "<Figure size 432x288 with 1 Axes>"
      ]
     },
     "metadata": {
      "needs_background": "light"
     },
     "output_type": "display_data"
    }
   ],
   "source": [
    "#Plot ROC Curve using our defined function\n",
    "plot_roc_curve(fpr, tpr)"
   ]
  },
  {
   "cell_type": "markdown",
   "metadata": {},
   "source": [
    "# Task2: Update the existing notebook to improve the performance"
   ]
  },
  {
   "cell_type": "code",
   "execution_count": 218,
   "metadata": {},
   "outputs": [],
   "source": [
    "submission=pd.DataFrame(list(zip(df_test['Complaint ID'],list(test_classes))),\n",
    "                       columns=['Complaint ID','Consumer disputed?'])"
   ]
  },
  {
   "cell_type": "code",
   "execution_count": 219,
   "metadata": {},
   "outputs": [
    {
     "data": {
      "text/plain": [
       "1    62060\n",
       "0    57546\n",
       "Name: Consumer disputed?, dtype: int64"
      ]
     },
     "execution_count": 219,
     "metadata": {},
     "output_type": "execute_result"
    }
   ],
   "source": [
    "submission['Consumer disputed?'].value_counts()"
   ]
  },
  {
   "cell_type": "code",
   "execution_count": 220,
   "metadata": {},
   "outputs": [],
   "source": [
    "submission.to_csv('submission_final.csv',index=False)"
   ]
  },
  {
   "cell_type": "code",
   "execution_count": 221,
   "metadata": {},
   "outputs": [
    {
     "data": {
      "text/plain": [
       "0    376990\n",
       "1    101431\n",
       "Name: Consumer disputed?, dtype: int64"
      ]
     },
     "execution_count": 221,
     "metadata": {},
     "output_type": "execute_result"
    }
   ],
   "source": [
    "df_train['Consumer disputed?'].value_counts()"
   ]
  },
  {
   "cell_type": "code",
   "execution_count": 222,
   "metadata": {},
   "outputs": [
    {
     "data": {
      "text/html": [
       "<div>\n",
       "<style scoped>\n",
       "    .dataframe tbody tr th:only-of-type {\n",
       "        vertical-align: middle;\n",
       "    }\n",
       "\n",
       "    .dataframe tbody tr th {\n",
       "        vertical-align: top;\n",
       "    }\n",
       "\n",
       "    .dataframe thead th {\n",
       "        text-align: right;\n",
       "    }\n",
       "</style>\n",
       "<table border=\"1\" class=\"dataframe\">\n",
       "  <thead>\n",
       "    <tr style=\"text-align: right;\">\n",
       "      <th></th>\n",
       "      <th>Complaint ID</th>\n",
       "      <th>Consumer disputed?</th>\n",
       "    </tr>\n",
       "  </thead>\n",
       "  <tbody>\n",
       "    <tr>\n",
       "      <th>0</th>\n",
       "      <td>675956</td>\n",
       "      <td>0</td>\n",
       "    </tr>\n",
       "    <tr>\n",
       "      <th>1</th>\n",
       "      <td>1858795</td>\n",
       "      <td>0</td>\n",
       "    </tr>\n",
       "    <tr>\n",
       "      <th>2</th>\n",
       "      <td>32637</td>\n",
       "      <td>1</td>\n",
       "    </tr>\n",
       "    <tr>\n",
       "      <th>3</th>\n",
       "      <td>1731374</td>\n",
       "      <td>0</td>\n",
       "    </tr>\n",
       "    <tr>\n",
       "      <th>4</th>\n",
       "      <td>501487</td>\n",
       "      <td>1</td>\n",
       "    </tr>\n",
       "    <tr>\n",
       "      <th>5</th>\n",
       "      <td>631565</td>\n",
       "      <td>0</td>\n",
       "    </tr>\n",
       "    <tr>\n",
       "      <th>6</th>\n",
       "      <td>1283963</td>\n",
       "      <td>1</td>\n",
       "    </tr>\n",
       "    <tr>\n",
       "      <th>7</th>\n",
       "      <td>1902970</td>\n",
       "      <td>0</td>\n",
       "    </tr>\n",
       "    <tr>\n",
       "      <th>8</th>\n",
       "      <td>1160691</td>\n",
       "      <td>0</td>\n",
       "    </tr>\n",
       "    <tr>\n",
       "      <th>9</th>\n",
       "      <td>359929</td>\n",
       "      <td>0</td>\n",
       "    </tr>\n",
       "    <tr>\n",
       "      <th>10</th>\n",
       "      <td>1556011</td>\n",
       "      <td>1</td>\n",
       "    </tr>\n",
       "    <tr>\n",
       "      <th>11</th>\n",
       "      <td>1296392</td>\n",
       "      <td>0</td>\n",
       "    </tr>\n",
       "    <tr>\n",
       "      <th>12</th>\n",
       "      <td>1726159</td>\n",
       "      <td>1</td>\n",
       "    </tr>\n",
       "    <tr>\n",
       "      <th>13</th>\n",
       "      <td>709197</td>\n",
       "      <td>0</td>\n",
       "    </tr>\n",
       "    <tr>\n",
       "      <th>14</th>\n",
       "      <td>1938442</td>\n",
       "      <td>0</td>\n",
       "    </tr>\n",
       "    <tr>\n",
       "      <th>15</th>\n",
       "      <td>1820696</td>\n",
       "      <td>1</td>\n",
       "    </tr>\n",
       "    <tr>\n",
       "      <th>16</th>\n",
       "      <td>404613</td>\n",
       "      <td>0</td>\n",
       "    </tr>\n",
       "    <tr>\n",
       "      <th>17</th>\n",
       "      <td>461579</td>\n",
       "      <td>0</td>\n",
       "    </tr>\n",
       "    <tr>\n",
       "      <th>18</th>\n",
       "      <td>1804301</td>\n",
       "      <td>1</td>\n",
       "    </tr>\n",
       "    <tr>\n",
       "      <th>19</th>\n",
       "      <td>991776</td>\n",
       "      <td>0</td>\n",
       "    </tr>\n",
       "  </tbody>\n",
       "</table>\n",
       "</div>"
      ],
      "text/plain": [
       "    Complaint ID  Consumer disputed?\n",
       "0         675956                   0\n",
       "1        1858795                   0\n",
       "2          32637                   1\n",
       "3        1731374                   0\n",
       "4         501487                   1\n",
       "5         631565                   0\n",
       "6        1283963                   1\n",
       "7        1902970                   0\n",
       "8        1160691                   0\n",
       "9         359929                   0\n",
       "10       1556011                   1\n",
       "11       1296392                   0\n",
       "12       1726159                   1\n",
       "13        709197                   0\n",
       "14       1938442                   0\n",
       "15       1820696                   1\n",
       "16        404613                   0\n",
       "17        461579                   0\n",
       "18       1804301                   1\n",
       "19        991776                   0"
      ]
     },
     "execution_count": 222,
     "metadata": {},
     "output_type": "execute_result"
    }
   ],
   "source": [
    "submission.head(20)"
   ]
  },
  {
   "cell_type": "code",
   "execution_count": null,
   "metadata": {},
   "outputs": [],
   "source": []
  },
  {
   "cell_type": "code",
   "execution_count": null,
   "metadata": {},
   "outputs": [],
   "source": []
  },
  {
   "cell_type": "code",
   "execution_count": null,
   "metadata": {},
   "outputs": [],
   "source": []
  }
 ],
 "metadata": {
  "kernelspec": {
   "display_name": "Python 3",
   "language": "python",
   "name": "python3"
  },
  "language_info": {
   "codemirror_mode": {
    "name": "ipython",
    "version": 3
   },
   "file_extension": ".py",
   "mimetype": "text/x-python",
   "name": "python",
   "nbconvert_exporter": "python",
   "pygments_lexer": "ipython3",
   "version": "3.7.3"
  }
 },
 "nbformat": 4,
 "nbformat_minor": 2
}
